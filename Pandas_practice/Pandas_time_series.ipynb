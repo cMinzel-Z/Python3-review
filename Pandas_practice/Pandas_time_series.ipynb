{
 "cells": [
  {
   "cell_type": "code",
   "execution_count": 1,
   "metadata": {},
   "outputs": [],
   "source": [
    "import pandas as pd"
   ]
  },
  {
   "cell_type": "markdown",
   "metadata": {},
   "source": [
    "# 创建时间对象"
   ]
  },
  {
   "cell_type": "markdown",
   "metadata": {},
   "source": [
    "在 Pandas 中关于时间序列的常见对象有 6 种\n",
    "- Timestamp（时间戳）\n",
    "- DatetimeIndex（时间戳索引）\n",
    "- Period（时间段）\n",
    "- PeriodIndex（时间段索引）\n",
    "- 以时间为元素的 Series \n",
    "- 以时间索引的 DataFrame"
   ]
  },
  {
   "cell_type": "markdown",
   "metadata": {},
   "source": [
    "### 创建时间戳"
   ]
  },
  {
   "cell_type": "code",
   "execution_count": 2,
   "metadata": {},
   "outputs": [
    {
     "data": {
      "text/plain": [
       "Timestamp('2020-04-18 00:00:00')"
      ]
     },
     "execution_count": 2,
     "metadata": {},
     "output_type": "execute_result"
    }
   ],
   "source": [
    "pd.Timestamp(2020,4,18)"
   ]
  },
  {
   "cell_type": "code",
   "execution_count": 3,
   "metadata": {},
   "outputs": [
    {
     "data": {
      "text/plain": [
       "Timestamp('2020-04-18 15:27:03')"
      ]
     },
     "execution_count": 3,
     "metadata": {},
     "output_type": "execute_result"
    }
   ],
   "source": [
    "pd.Timestamp(\"2020-4-18 15:27:03\")"
   ]
  },
  {
   "cell_type": "code",
   "execution_count": 4,
   "metadata": {},
   "outputs": [
    {
     "data": {
      "text/plain": [
       "Timestamp('2020-04-18 00:00:00')"
      ]
     },
     "execution_count": 4,
     "metadata": {},
     "output_type": "execute_result"
    }
   ],
   "source": [
    "from datetime import datetime\n",
    "\n",
    "pd.Timestamp(datetime(2020,4,18))"
   ]
  },
  {
   "cell_type": "markdown",
   "metadata": {},
   "source": [
    "### 创建时间段"
   ]
  },
  {
   "cell_type": "code",
   "execution_count": 5,
   "metadata": {},
   "outputs": [
    {
     "data": {
      "text/plain": [
       "Period('2020-04', 'M')"
      ]
     },
     "execution_count": 5,
     "metadata": {},
     "output_type": "execute_result"
    }
   ],
   "source": [
    "pd.Period(\"2020-4\")"
   ]
  },
  {
   "cell_type": "code",
   "execution_count": 9,
   "metadata": {},
   "outputs": [
    {
     "data": {
      "text/plain": [
       "Period('2020-04-01', 'D')"
      ]
     },
     "execution_count": 9,
     "metadata": {},
     "output_type": "execute_result"
    }
   ],
   "source": [
    "pd.Period('2020-4',freq='D')"
   ]
  },
  {
   "cell_type": "markdown",
   "metadata": {},
   "source": [
    "### 创建时间元素的Series"
   ]
  },
  {
   "cell_type": "code",
   "execution_count": 10,
   "metadata": {},
   "outputs": [
    {
     "data": {
      "text/plain": [
       "DatetimeIndex(['2019-08-01', '2019-09-01', '2019-10-01'], dtype='datetime64[ns]', freq=None)"
      ]
     },
     "execution_count": 10,
     "metadata": {},
     "output_type": "execute_result"
    }
   ],
   "source": [
    "df = ['2019-08-01', '2019-09-01', '2019-10-01']\n",
    "pd.to_datetime(df)"
   ]
  },
  {
   "cell_type": "code",
   "execution_count": 12,
   "metadata": {},
   "outputs": [
    {
     "data": {
      "text/plain": [
       "0   2019-09-30\n",
       "1   2019-10-01\n",
       "2          NaT\n",
       "dtype: datetime64[ns]"
      ]
     },
     "execution_count": 12,
     "metadata": {},
     "output_type": "execute_result"
    }
   ],
   "source": [
    "df = pd.Series(['Sep 30, 2019', '2019-10-1', None])\n",
    "pd.to_datetime(df)"
   ]
  },
  {
   "cell_type": "code",
   "execution_count": 13,
   "metadata": {},
   "outputs": [
    {
     "data": {
      "text/plain": [
       "0   2017-09-30 23:00:00\n",
       "1   2018-10-01 00:00:00\n",
       "dtype: datetime64[ns]"
      ]
     },
     "execution_count": 13,
     "metadata": {},
     "output_type": "execute_result"
    }
   ],
   "source": [
    "df = pd.DataFrame({'year': [2017, 2018],\n",
    "                   'month': [9, 10],\n",
    "                   'day': [30, 1],\n",
    "                   'hour': [23, 0]})\n",
    "pd.to_datetime(df)"
   ]
  },
  {
   "cell_type": "markdown",
   "metadata": {},
   "source": [
    "### 创建时间索引"
   ]
  },
  {
   "cell_type": "code",
   "execution_count": 14,
   "metadata": {},
   "outputs": [
    {
     "data": {
      "text/plain": [
       "DatetimeIndex(['2018-08-01', '2018-09-01', '2018-10-01'], dtype='datetime64[ns]', freq=None)"
      ]
     },
     "execution_count": 14,
     "metadata": {},
     "output_type": "execute_result"
    }
   ],
   "source": [
    "dates = ['2018-08-01', '2018-09-01', '2018-10-01']\n",
    "index = pd.DatetimeIndex(dates)\n",
    "index"
   ]
  },
  {
   "cell_type": "markdown",
   "metadata": {},
   "source": [
    "创建以 2018 年 9 月 30 日为开始的 250 条时间索引，相邻索引间隔时间长度为一个月"
   ]
  },
  {
   "cell_type": "code",
   "execution_count": 15,
   "metadata": {},
   "outputs": [
    {
     "data": {
      "text/plain": [
       "DatetimeIndex(['2018-09-30', '2018-10-31', '2018-11-30', '2018-12-31',\n",
       "               '2019-01-31', '2019-02-28', '2019-03-31', '2019-04-30',\n",
       "               '2019-05-31', '2019-06-30',\n",
       "               ...\n",
       "               '2038-09-30', '2038-10-31', '2038-11-30', '2038-12-31',\n",
       "               '2039-01-31', '2039-02-28', '2039-03-31', '2039-04-30',\n",
       "               '2039-05-31', '2039-06-30'],\n",
       "              dtype='datetime64[ns]', length=250, freq='M')"
      ]
     },
     "execution_count": 15,
     "metadata": {},
     "output_type": "execute_result"
    }
   ],
   "source": [
    "index = pd.date_range('2018-9-30', periods=250, freq='M')\n",
    "index"
   ]
  },
  {
   "cell_type": "markdown",
   "metadata": {},
   "source": [
    "创建以 2018 年 10 月 1 日为开始的 111 条时间索引，相邻索引间隔时间长度为一个工作日"
   ]
  },
  {
   "cell_type": "code",
   "execution_count": 16,
   "metadata": {},
   "outputs": [
    {
     "data": {
      "text/plain": [
       "DatetimeIndex(['2018-10-01', '2018-10-02', '2018-10-03', '2018-10-04',\n",
       "               '2018-10-05', '2018-10-08', '2018-10-09', '2018-10-10',\n",
       "               '2018-10-11', '2018-10-12',\n",
       "               ...\n",
       "               '2019-02-19', '2019-02-20', '2019-02-21', '2019-02-22',\n",
       "               '2019-02-25', '2019-02-26', '2019-02-27', '2019-02-28',\n",
       "               '2019-03-01', '2019-03-04'],\n",
       "              dtype='datetime64[ns]', length=111, freq='B')"
      ]
     },
     "execution_count": 16,
     "metadata": {},
     "output_type": "execute_result"
    }
   ],
   "source": [
    "index = pd.bdate_range('2018-10-1', periods=111)\n",
    "index"
   ]
  },
  {
   "cell_type": "markdown",
   "metadata": {},
   "source": [
    "在 2017 年 10 月 1 日到 2018 年 10 月 1 日间，每隔一周创建一条索引"
   ]
  },
  {
   "cell_type": "code",
   "execution_count": 17,
   "metadata": {},
   "outputs": [
    {
     "data": {
      "text/plain": [
       "DatetimeIndex(['2017-10-01', '2017-10-08', '2017-10-15', '2017-10-22',\n",
       "               '2017-10-29', '2017-11-05', '2017-11-12', '2017-11-19',\n",
       "               '2017-11-26', '2017-12-03', '2017-12-10', '2017-12-17',\n",
       "               '2017-12-24', '2017-12-31', '2018-01-07', '2018-01-14',\n",
       "               '2018-01-21', '2018-01-28', '2018-02-04', '2018-02-11',\n",
       "               '2018-02-18', '2018-02-25', '2018-03-04', '2018-03-11',\n",
       "               '2018-03-18', '2018-03-25', '2018-04-01', '2018-04-08',\n",
       "               '2018-04-15', '2018-04-22', '2018-04-29', '2018-05-06',\n",
       "               '2018-05-13', '2018-05-20', '2018-05-27', '2018-06-03',\n",
       "               '2018-06-10', '2018-06-17', '2018-06-24', '2018-07-01',\n",
       "               '2018-07-08', '2018-07-15', '2018-07-22', '2018-07-29',\n",
       "               '2018-08-05', '2018-08-12', '2018-08-19', '2018-08-26',\n",
       "               '2018-09-02', '2018-09-09', '2018-09-16', '2018-09-23',\n",
       "               '2018-09-30'],\n",
       "              dtype='datetime64[ns]', freq='W-SUN')"
      ]
     },
     "execution_count": 17,
     "metadata": {},
     "output_type": "execute_result"
    }
   ],
   "source": [
    "start = datetime(2017, 10, 1)\n",
    "end = datetime(2018, 10, 1)\n",
    "rng = pd.date_range(start, end, freq='W')\n",
    "rng"
   ]
  },
  {
   "cell_type": "markdown",
   "metadata": {},
   "source": [
    "从 2018 年 10 月 1 日向前每隔一个工作日创建一条索引，共 250 条"
   ]
  },
  {
   "cell_type": "code",
   "execution_count": 18,
   "metadata": {},
   "outputs": [
    {
     "data": {
      "text/plain": [
       "DatetimeIndex(['2017-10-17', '2017-10-18', '2017-10-19', '2017-10-20',\n",
       "               '2017-10-23', '2017-10-24', '2017-10-25', '2017-10-26',\n",
       "               '2017-10-27', '2017-10-30',\n",
       "               ...\n",
       "               '2018-09-18', '2018-09-19', '2018-09-20', '2018-09-21',\n",
       "               '2018-09-24', '2018-09-25', '2018-09-26', '2018-09-27',\n",
       "               '2018-09-28', '2018-10-01'],\n",
       "              dtype='datetime64[ns]', length=250, freq='B')"
      ]
     },
     "execution_count": 18,
     "metadata": {},
     "output_type": "execute_result"
    }
   ],
   "source": [
    "pd.bdate_range(end=end, periods=250)"
   ]
  },
  {
   "cell_type": "markdown",
   "metadata": {},
   "source": [
    "从 2018 年 9 月 30 日向后创建 666 条索引，相邻索引间隔时间长度为一天"
   ]
  },
  {
   "cell_type": "code",
   "execution_count": 19,
   "metadata": {},
   "outputs": [
    {
     "data": {
      "text/plain": [
       "PeriodIndex(['2018-09-30', '2018-10-01', '2018-10-02', '2018-10-03',\n",
       "             '2018-10-04', '2018-10-05', '2018-10-06', '2018-10-07',\n",
       "             '2018-10-08', '2018-10-09',\n",
       "             ...\n",
       "             '2020-07-17', '2020-07-18', '2020-07-19', '2020-07-20',\n",
       "             '2020-07-21', '2020-07-22', '2020-07-23', '2020-07-24',\n",
       "             '2020-07-25', '2020-07-26'],\n",
       "            dtype='period[D]', length=666, freq='D')"
      ]
     },
     "execution_count": 19,
     "metadata": {},
     "output_type": "execute_result"
    }
   ],
   "source": [
    "pi = pd.period_range('2018-9-30', periods=666)\n",
    "pi"
   ]
  },
  {
   "cell_type": "markdown",
   "metadata": {},
   "source": [
    "### 创建以时间为索引的 Series 对象"
   ]
  },
  {
   "cell_type": "code",
   "execution_count": 20,
   "metadata": {},
   "outputs": [
    {
     "data": {
      "text/plain": [
       "2018-08-01    0.998191\n",
       "2018-09-01   -0.240116\n",
       "2018-10-01    0.704582\n",
       "dtype: float64"
      ]
     },
     "execution_count": 20,
     "metadata": {},
     "output_type": "execute_result"
    }
   ],
   "source": [
    "import numpy as np\n",
    "\n",
    "dates = [pd.Timestamp('2018-08-01'), pd.Timestamp('2018-09-01'),\n",
    "         pd.Timestamp('2018-10-01')]  \n",
    "ts = pd.Series(np.random.randn(3), dates)   \n",
    "ts"
   ]
  },
  {
   "cell_type": "code",
   "execution_count": 21,
   "metadata": {},
   "outputs": [
    {
     "data": {
      "text/plain": [
       "2018-08    0.150280\n",
       "2018-09   -0.123965\n",
       "2018-10   -1.744211\n",
       "Freq: M, dtype: float64"
      ]
     },
     "execution_count": 21,
     "metadata": {},
     "output_type": "execute_result"
    }
   ],
   "source": [
    "periods = [pd.Period('2018-08'), pd.Period('2018-09'), pd.Period('2018-10')]\n",
    "ts = pd.Series(np.random.randn(3), periods)\n",
    "ts"
   ]
  },
  {
   "cell_type": "code",
   "execution_count": 22,
   "metadata": {},
   "outputs": [
    {
     "data": {
      "text/plain": [
       "2017-10-01   -0.092914\n",
       "2017-10-08    0.363658\n",
       "2017-10-15   -0.823953\n",
       "2017-10-22   -1.295782\n",
       "2017-10-29   -0.442215\n",
       "2017-11-05   -0.593590\n",
       "2017-11-12   -2.196413\n",
       "2017-11-19    0.438599\n",
       "2017-11-26   -0.457713\n",
       "2017-12-03    0.430235\n",
       "2017-12-10   -0.380449\n",
       "2017-12-17   -0.414208\n",
       "2017-12-24    0.384422\n",
       "2017-12-31   -0.281888\n",
       "2018-01-07   -0.025646\n",
       "2018-01-14   -0.182201\n",
       "2018-01-21   -0.320691\n",
       "2018-01-28   -0.057317\n",
       "2018-02-04    0.516836\n",
       "2018-02-11    1.336199\n",
       "2018-02-18    0.296601\n",
       "2018-02-25    1.134519\n",
       "2018-03-04    1.551878\n",
       "2018-03-11   -1.080579\n",
       "2018-03-18   -1.312119\n",
       "2018-03-25   -0.248408\n",
       "2018-04-01    0.812072\n",
       "2018-04-08   -0.626627\n",
       "2018-04-15   -0.439052\n",
       "2018-04-22   -0.152861\n",
       "2018-04-29   -1.404312\n",
       "2018-05-06   -0.936724\n",
       "2018-05-13   -1.192552\n",
       "2018-05-20   -0.112382\n",
       "2018-05-27   -0.763505\n",
       "2018-06-03   -0.181874\n",
       "2018-06-10    0.165718\n",
       "2018-06-17    1.401680\n",
       "2018-06-24   -0.787971\n",
       "2018-07-01    0.590650\n",
       "2018-07-08   -0.158406\n",
       "2018-07-15   -1.611070\n",
       "2018-07-22    0.639124\n",
       "2018-07-29    0.501524\n",
       "2018-08-05    0.071201\n",
       "2018-08-12    1.170595\n",
       "2018-08-19   -0.233835\n",
       "2018-08-26    1.160592\n",
       "2018-09-02   -0.878159\n",
       "2018-09-09    2.592346\n",
       "2018-09-16    0.212333\n",
       "2018-09-23    1.302311\n",
       "2018-09-30   -0.481844\n",
       "Freq: W-SUN, dtype: float64"
      ]
     },
     "execution_count": 22,
     "metadata": {},
     "output_type": "execute_result"
    }
   ],
   "source": [
    "ts = pd.Series(np.random.randn(len(rng)), index=rng)\n",
    "ts"
   ]
  },
  {
   "cell_type": "code",
   "execution_count": 24,
   "metadata": {},
   "outputs": [
    {
     "data": {
      "text/html": [
       "<div>\n",
       "<style scoped>\n",
       "    .dataframe tbody tr th:only-of-type {\n",
       "        vertical-align: middle;\n",
       "    }\n",
       "\n",
       "    .dataframe tbody tr th {\n",
       "        vertical-align: top;\n",
       "    }\n",
       "\n",
       "    .dataframe thead th {\n",
       "        text-align: right;\n",
       "    }\n",
       "</style>\n",
       "<table border=\"1\" class=\"dataframe\">\n",
       "  <thead>\n",
       "    <tr style=\"text-align: right;\">\n",
       "      <th></th>\n",
       "      <th>A</th>\n",
       "    </tr>\n",
       "  </thead>\n",
       "  <tbody>\n",
       "    <tr>\n",
       "      <th>2017Q1</th>\n",
       "      <td>0.647065</td>\n",
       "    </tr>\n",
       "    <tr>\n",
       "      <th>2017Q2</th>\n",
       "      <td>0.335324</td>\n",
       "    </tr>\n",
       "    <tr>\n",
       "      <th>2017Q3</th>\n",
       "      <td>0.538550</td>\n",
       "    </tr>\n",
       "    <tr>\n",
       "      <th>2017Q4</th>\n",
       "      <td>0.060542</td>\n",
       "    </tr>\n",
       "    <tr>\n",
       "      <th>2018Q1</th>\n",
       "      <td>0.527473</td>\n",
       "    </tr>\n",
       "    <tr>\n",
       "      <th>2018Q2</th>\n",
       "      <td>0.321222</td>\n",
       "    </tr>\n",
       "    <tr>\n",
       "      <th>2018Q3</th>\n",
       "      <td>0.566623</td>\n",
       "    </tr>\n",
       "    <tr>\n",
       "      <th>2018Q4</th>\n",
       "      <td>0.240218</td>\n",
       "    </tr>\n",
       "  </tbody>\n",
       "</table>\n",
       "</div>"
      ],
      "text/plain": [
       "               A\n",
       "2017Q1  0.647065\n",
       "2017Q2  0.335324\n",
       "2017Q3  0.538550\n",
       "2017Q4  0.060542\n",
       "2018Q1  0.527473\n",
       "2018Q2  0.321222\n",
       "2018Q3  0.566623\n",
       "2018Q4  0.240218"
      ]
     },
     "execution_count": 24,
     "metadata": {},
     "output_type": "execute_result"
    }
   ],
   "source": [
    "prng = pd.period_range('2017Q1', '2018Q4', freq='Q-NOV')\n",
    "\n",
    "# 行索引为时间段索引，列索引为 A。\n",
    "ps = pd.DataFrame(np.random.rand(len(prng)), columns=[\n",
    "                  'A'], index=prng)\n",
    "ps"
   ]
  },
  {
   "cell_type": "markdown",
   "metadata": {},
   "source": [
    "# 时间索引对象处理"
   ]
  },
  {
   "cell_type": "markdown",
   "metadata": {},
   "source": [
    "### 查找"
   ]
  },
  {
   "cell_type": "code",
   "execution_count": 25,
   "metadata": {},
   "outputs": [
    {
     "data": {
      "text/plain": [
       "2017-10-01   -0.092914\n",
       "2017-10-08    0.363658\n",
       "2017-10-15   -0.823953\n",
       "2017-10-22   -1.295782\n",
       "2017-10-29   -0.442215\n",
       "2017-11-05   -0.593590\n",
       "2017-11-12   -2.196413\n",
       "2017-11-19    0.438599\n",
       "2017-11-26   -0.457713\n",
       "2017-12-03    0.430235\n",
       "2017-12-10   -0.380449\n",
       "2017-12-17   -0.414208\n",
       "2017-12-24    0.384422\n",
       "2017-12-31   -0.281888\n",
       "2018-01-07   -0.025646\n",
       "2018-01-14   -0.182201\n",
       "2018-01-21   -0.320691\n",
       "2018-01-28   -0.057317\n",
       "2018-02-04    0.516836\n",
       "2018-02-11    1.336199\n",
       "2018-02-18    0.296601\n",
       "2018-02-25    1.134519\n",
       "2018-03-04    1.551878\n",
       "2018-03-11   -1.080579\n",
       "2018-03-18   -1.312119\n",
       "2018-03-25   -0.248408\n",
       "2018-04-01    0.812072\n",
       "2018-04-08   -0.626627\n",
       "2018-04-15   -0.439052\n",
       "2018-04-22   -0.152861\n",
       "2018-04-29   -1.404312\n",
       "2018-05-06   -0.936724\n",
       "2018-05-13   -1.192552\n",
       "2018-05-20   -0.112382\n",
       "2018-05-27   -0.763505\n",
       "2018-06-03   -0.181874\n",
       "2018-06-10    0.165718\n",
       "2018-06-17    1.401680\n",
       "2018-06-24   -0.787971\n",
       "2018-07-01    0.590650\n",
       "2018-07-08   -0.158406\n",
       "2018-07-15   -1.611070\n",
       "2018-07-22    0.639124\n",
       "2018-07-29    0.501524\n",
       "2018-08-05    0.071201\n",
       "2018-08-12    1.170595\n",
       "2018-08-19   -0.233835\n",
       "2018-08-26    1.160592\n",
       "2018-09-02   -0.878159\n",
       "2018-09-09    2.592346\n",
       "2018-09-16    0.212333\n",
       "2018-09-23    1.302311\n",
       "2018-09-30   -0.481844\n",
       "Freq: W-SUN, dtype: float64"
      ]
     },
     "execution_count": 25,
     "metadata": {},
     "output_type": "execute_result"
    }
   ],
   "source": [
    "ts"
   ]
  },
  {
   "cell_type": "code",
   "execution_count": 26,
   "metadata": {},
   "outputs": [
    {
     "data": {
      "text/plain": [
       "2017-10-01   -0.092914\n",
       "2017-10-08    0.363658\n",
       "2017-10-15   -0.823953\n",
       "2017-10-22   -1.295782\n",
       "2017-10-29   -0.442215\n",
       "2017-11-05   -0.593590\n",
       "2017-11-12   -2.196413\n",
       "2017-11-19    0.438599\n",
       "2017-11-26   -0.457713\n",
       "2017-12-03    0.430235\n",
       "Freq: W-SUN, dtype: float64"
      ]
     },
     "execution_count": 26,
     "metadata": {},
     "output_type": "execute_result"
    }
   ],
   "source": [
    "ts[:10]"
   ]
  },
  {
   "cell_type": "code",
   "execution_count": 28,
   "metadata": {},
   "outputs": [
    {
     "data": {
      "text/plain": [
       "2017-10-01   -0.092914\n",
       "2017-10-15   -0.823953\n",
       "2017-10-29   -0.442215\n",
       "2017-11-12   -2.196413\n",
       "2017-11-26   -0.457713\n",
       "2017-12-10   -0.380449\n",
       "2017-12-24    0.384422\n",
       "2018-01-07   -0.025646\n",
       "2018-01-21   -0.320691\n",
       "2018-02-04    0.516836\n",
       "2018-02-18    0.296601\n",
       "2018-03-04    1.551878\n",
       "2018-03-18   -1.312119\n",
       "2018-04-01    0.812072\n",
       "2018-04-15   -0.439052\n",
       "2018-04-29   -1.404312\n",
       "2018-05-13   -1.192552\n",
       "2018-05-27   -0.763505\n",
       "2018-06-10    0.165718\n",
       "2018-06-24   -0.787971\n",
       "2018-07-08   -0.158406\n",
       "2018-07-22    0.639124\n",
       "2018-08-05    0.071201\n",
       "2018-08-19   -0.233835\n",
       "2018-09-02   -0.878159\n",
       "2018-09-16    0.212333\n",
       "2018-09-30   -0.481844\n",
       "Freq: 2W-SUN, dtype: float64"
      ]
     },
     "execution_count": 28,
     "metadata": {},
     "output_type": "execute_result"
    }
   ],
   "source": [
    "ts[::2]"
   ]
  },
  {
   "cell_type": "code",
   "execution_count": 29,
   "metadata": {},
   "outputs": [
    {
     "data": {
      "text/plain": [
       "2017-10-01   -0.092914\n",
       "2017-10-15   -0.823953\n",
       "2017-11-12   -2.196413\n",
       "dtype: float64"
      ]
     },
     "execution_count": 29,
     "metadata": {},
     "output_type": "execute_result"
    }
   ],
   "source": [
    "ts[[0,2,6]]"
   ]
  },
  {
   "cell_type": "code",
   "execution_count": 31,
   "metadata": {},
   "outputs": [
    {
     "data": {
      "text/plain": [
       "-0.48184382682931737"
      ]
     },
     "execution_count": 31,
     "metadata": {},
     "output_type": "execute_result"
    }
   ],
   "source": [
    "ts[\"9/30/2018\"]"
   ]
  },
  {
   "cell_type": "code",
   "execution_count": 32,
   "metadata": {},
   "outputs": [
    {
     "data": {
      "text/plain": [
       "-0.48184382682931737"
      ]
     },
     "execution_count": 32,
     "metadata": {},
     "output_type": "execute_result"
    }
   ],
   "source": [
    "ts[datetime(2018,9,30)]"
   ]
  },
  {
   "cell_type": "code",
   "execution_count": 33,
   "metadata": {},
   "outputs": [
    {
     "data": {
      "text/plain": [
       "2017-10-01   -0.092914\n",
       "2017-10-08    0.363658\n",
       "2017-10-15   -0.823953\n",
       "2017-10-22   -1.295782\n",
       "2017-10-29   -0.442215\n",
       "2017-11-05   -0.593590\n",
       "2017-11-12   -2.196413\n",
       "2017-11-19    0.438599\n",
       "2017-11-26   -0.457713\n",
       "2017-12-03    0.430235\n",
       "2017-12-10   -0.380449\n",
       "2017-12-17   -0.414208\n",
       "2017-12-24    0.384422\n",
       "2017-12-31   -0.281888\n",
       "Freq: W-SUN, dtype: float64"
      ]
     },
     "execution_count": 33,
     "metadata": {},
     "output_type": "execute_result"
    }
   ],
   "source": [
    "ts['2017']"
   ]
  },
  {
   "cell_type": "code",
   "execution_count": 34,
   "metadata": {},
   "outputs": [
    {
     "data": {
      "text/plain": [
       "2018-09-02   -0.878159\n",
       "2018-09-09    2.592346\n",
       "2018-09-16    0.212333\n",
       "2018-09-23    1.302311\n",
       "2018-09-30   -0.481844\n",
       "Freq: W-SUN, dtype: float64"
      ]
     },
     "execution_count": 34,
     "metadata": {},
     "output_type": "execute_result"
    }
   ],
   "source": [
    "ts['2018-9']"
   ]
  },
  {
   "cell_type": "code",
   "execution_count": 35,
   "metadata": {},
   "outputs": [
    {
     "data": {
      "text/html": [
       "<div>\n",
       "<style scoped>\n",
       "    .dataframe tbody tr th:only-of-type {\n",
       "        vertical-align: middle;\n",
       "    }\n",
       "\n",
       "    .dataframe tbody tr th {\n",
       "        vertical-align: top;\n",
       "    }\n",
       "\n",
       "    .dataframe thead th {\n",
       "        text-align: right;\n",
       "    }\n",
       "</style>\n",
       "<table border=\"1\" class=\"dataframe\">\n",
       "  <thead>\n",
       "    <tr style=\"text-align: right;\">\n",
       "      <th></th>\n",
       "      <th>A</th>\n",
       "    </tr>\n",
       "  </thead>\n",
       "  <tbody>\n",
       "    <tr>\n",
       "      <th>2017Q1</th>\n",
       "      <td>0.647065</td>\n",
       "    </tr>\n",
       "    <tr>\n",
       "      <th>2017Q2</th>\n",
       "      <td>0.335324</td>\n",
       "    </tr>\n",
       "    <tr>\n",
       "      <th>2017Q3</th>\n",
       "      <td>0.538550</td>\n",
       "    </tr>\n",
       "    <tr>\n",
       "      <th>2017Q4</th>\n",
       "      <td>0.060542</td>\n",
       "    </tr>\n",
       "    <tr>\n",
       "      <th>2018Q1</th>\n",
       "      <td>0.527473</td>\n",
       "    </tr>\n",
       "    <tr>\n",
       "      <th>2018Q2</th>\n",
       "      <td>0.321222</td>\n",
       "    </tr>\n",
       "    <tr>\n",
       "      <th>2018Q3</th>\n",
       "      <td>0.566623</td>\n",
       "    </tr>\n",
       "    <tr>\n",
       "      <th>2018Q4</th>\n",
       "      <td>0.240218</td>\n",
       "    </tr>\n",
       "  </tbody>\n",
       "</table>\n",
       "</div>"
      ],
      "text/plain": [
       "               A\n",
       "2017Q1  0.647065\n",
       "2017Q2  0.335324\n",
       "2017Q3  0.538550\n",
       "2017Q4  0.060542\n",
       "2018Q1  0.527473\n",
       "2018Q2  0.321222\n",
       "2018Q3  0.566623\n",
       "2018Q4  0.240218"
      ]
     },
     "execution_count": 35,
     "metadata": {},
     "output_type": "execute_result"
    }
   ],
   "source": [
    "ps"
   ]
  },
  {
   "cell_type": "code",
   "execution_count": 36,
   "metadata": {},
   "outputs": [
    {
     "data": {
      "text/html": [
       "<div>\n",
       "<style scoped>\n",
       "    .dataframe tbody tr th:only-of-type {\n",
       "        vertical-align: middle;\n",
       "    }\n",
       "\n",
       "    .dataframe tbody tr th {\n",
       "        vertical-align: top;\n",
       "    }\n",
       "\n",
       "    .dataframe thead th {\n",
       "        text-align: right;\n",
       "    }\n",
       "</style>\n",
       "<table border=\"1\" class=\"dataframe\">\n",
       "  <thead>\n",
       "    <tr style=\"text-align: right;\">\n",
       "      <th></th>\n",
       "      <th>A</th>\n",
       "    </tr>\n",
       "  </thead>\n",
       "  <tbody>\n",
       "    <tr>\n",
       "      <th>2017Q1</th>\n",
       "      <td>0.647065</td>\n",
       "    </tr>\n",
       "    <tr>\n",
       "      <th>2017Q2</th>\n",
       "      <td>0.335324</td>\n",
       "    </tr>\n",
       "    <tr>\n",
       "      <th>2017Q3</th>\n",
       "      <td>0.538550</td>\n",
       "    </tr>\n",
       "    <tr>\n",
       "      <th>2017Q4</th>\n",
       "      <td>0.060542</td>\n",
       "    </tr>\n",
       "    <tr>\n",
       "      <th>2018Q1</th>\n",
       "      <td>0.527473</td>\n",
       "    </tr>\n",
       "  </tbody>\n",
       "</table>\n",
       "</div>"
      ],
      "text/plain": [
       "               A\n",
       "2017Q1  0.647065\n",
       "2017Q2  0.335324\n",
       "2017Q3  0.538550\n",
       "2017Q4  0.060542\n",
       "2018Q1  0.527473"
      ]
     },
     "execution_count": 36,
     "metadata": {},
     "output_type": "execute_result"
    }
   ],
   "source": [
    "ps['2017']"
   ]
  },
  {
   "cell_type": "code",
   "execution_count": 37,
   "metadata": {},
   "outputs": [
    {
     "data": {
      "text/html": [
       "<div>\n",
       "<style scoped>\n",
       "    .dataframe tbody tr th:only-of-type {\n",
       "        vertical-align: middle;\n",
       "    }\n",
       "\n",
       "    .dataframe tbody tr th {\n",
       "        vertical-align: top;\n",
       "    }\n",
       "\n",
       "    .dataframe thead th {\n",
       "        text-align: right;\n",
       "    }\n",
       "</style>\n",
       "<table border=\"1\" class=\"dataframe\">\n",
       "  <thead>\n",
       "    <tr style=\"text-align: right;\">\n",
       "      <th></th>\n",
       "      <th>A</th>\n",
       "    </tr>\n",
       "  </thead>\n",
       "  <tbody>\n",
       "    <tr>\n",
       "      <th>2017Q1</th>\n",
       "      <td>0.647065</td>\n",
       "    </tr>\n",
       "    <tr>\n",
       "      <th>2017Q2</th>\n",
       "      <td>0.335324</td>\n",
       "    </tr>\n",
       "    <tr>\n",
       "      <th>2017Q3</th>\n",
       "      <td>0.538550</td>\n",
       "    </tr>\n",
       "    <tr>\n",
       "      <th>2017Q4</th>\n",
       "      <td>0.060542</td>\n",
       "    </tr>\n",
       "    <tr>\n",
       "      <th>2018Q1</th>\n",
       "      <td>0.527473</td>\n",
       "    </tr>\n",
       "  </tbody>\n",
       "</table>\n",
       "</div>"
      ],
      "text/plain": [
       "               A\n",
       "2017Q1  0.647065\n",
       "2017Q2  0.335324\n",
       "2017Q3  0.538550\n",
       "2017Q4  0.060542\n",
       "2018Q1  0.527473"
      ]
     },
     "execution_count": 37,
     "metadata": {},
     "output_type": "execute_result"
    }
   ],
   "source": [
    "ps[:datetime(2017,12,31)]"
   ]
  },
  {
   "cell_type": "code",
   "execution_count": 39,
   "metadata": {},
   "outputs": [
    {
     "data": {
      "text/html": [
       "<div>\n",
       "<style scoped>\n",
       "    .dataframe tbody tr th:only-of-type {\n",
       "        vertical-align: middle;\n",
       "    }\n",
       "\n",
       "    .dataframe tbody tr th {\n",
       "        vertical-align: top;\n",
       "    }\n",
       "\n",
       "    .dataframe thead th {\n",
       "        text-align: right;\n",
       "    }\n",
       "</style>\n",
       "<table border=\"1\" class=\"dataframe\">\n",
       "  <thead>\n",
       "    <tr style=\"text-align: right;\">\n",
       "      <th></th>\n",
       "      <th>A</th>\n",
       "    </tr>\n",
       "  </thead>\n",
       "  <tbody>\n",
       "    <tr>\n",
       "      <th>2018Q3</th>\n",
       "      <td>0.566623</td>\n",
       "    </tr>\n",
       "  </tbody>\n",
       "</table>\n",
       "</div>"
      ],
      "text/plain": [
       "               A\n",
       "2018Q3  0.566623"
      ]
     },
     "execution_count": 39,
     "metadata": {},
     "output_type": "execute_result"
    }
   ],
   "source": [
    "ps['2018-06']"
   ]
  },
  {
   "cell_type": "markdown",
   "metadata": {},
   "source": [
    "### 切片"
   ]
  },
  {
   "cell_type": "code",
   "execution_count": 40,
   "metadata": {},
   "outputs": [
    {
     "data": {
      "text/plain": [
       "2017-11-26   -0.457713\n",
       "2017-12-03    0.430235\n",
       "2017-12-10   -0.380449\n",
       "2017-12-17   -0.414208\n",
       "2017-12-24    0.384422\n",
       "2017-12-31   -0.281888\n",
       "2018-01-07   -0.025646\n",
       "2018-01-14   -0.182201\n",
       "2018-01-21   -0.320691\n",
       "2018-01-28   -0.057317\n",
       "2018-02-04    0.516836\n",
       "2018-02-11    1.336199\n",
       "2018-02-18    0.296601\n",
       "2018-02-25    1.134519\n",
       "2018-03-04    1.551878\n",
       "2018-03-11   -1.080579\n",
       "2018-03-18   -1.312119\n",
       "2018-03-25   -0.248408\n",
       "2018-04-01    0.812072\n",
       "2018-04-08   -0.626627\n",
       "2018-04-15   -0.439052\n",
       "2018-04-22   -0.152861\n",
       "2018-04-29   -1.404312\n",
       "Freq: W-SUN, dtype: float64"
      ]
     },
     "execution_count": 40,
     "metadata": {},
     "output_type": "execute_result"
    }
   ],
   "source": [
    "ts.truncate(before='11/26/2017', after='4/29/2018')"
   ]
  },
  {
   "cell_type": "markdown",
   "metadata": {},
   "source": [
    "### 移动"
   ]
  },
  {
   "cell_type": "code",
   "execution_count": 41,
   "metadata": {},
   "outputs": [
    {
     "data": {
      "text/plain": [
       "2017-10-01   -0.092914\n",
       "2017-10-08    0.363658\n",
       "2017-10-15   -0.823953\n",
       "2017-10-22   -1.295782\n",
       "2017-10-29   -0.442215\n",
       "Freq: W-SUN, dtype: float64"
      ]
     },
     "execution_count": 41,
     "metadata": {},
     "output_type": "execute_result"
    }
   ],
   "source": [
    "# 取前 5 条数据方便观察。\n",
    "ts = ts[:5]  \n",
    "ts"
   ]
  },
  {
   "cell_type": "code",
   "execution_count": 42,
   "metadata": {},
   "outputs": [
    {
     "data": {
      "text/plain": [
       "2017-10-01         NaN\n",
       "2017-10-08   -0.092914\n",
       "2017-10-15    0.363658\n",
       "2017-10-22   -0.823953\n",
       "2017-10-29   -1.295782\n",
       "Freq: W-SUN, dtype: float64"
      ]
     },
     "execution_count": 42,
     "metadata": {},
     "output_type": "execute_result"
    }
   ],
   "source": [
    "# 将元素列向下移动一条\n",
    "ts.shift(1)"
   ]
  },
  {
   "cell_type": "code",
   "execution_count": 43,
   "metadata": {},
   "outputs": [
    {
     "data": {
      "text/plain": [
       "2017-10-08   -0.092914\n",
       "2017-10-15    0.363658\n",
       "2017-10-22   -0.823953\n",
       "2017-10-29   -1.295782\n",
       "2017-11-05   -0.442215\n",
       "Freq: W-SUN, dtype: float64"
      ]
     },
     "execution_count": 43,
     "metadata": {},
     "output_type": "execute_result"
    }
   ],
   "source": [
    "# 将索引列向上移动一条\n",
    "ts.shift(1, freq='W')"
   ]
  },
  {
   "cell_type": "markdown",
   "metadata": {},
   "source": [
    "### 重采样"
   ]
  },
  {
   "cell_type": "markdown",
   "metadata": {},
   "source": [
    "重采样可以通俗得理解为改变时间索引的个数，通过增大或减小相邻索引的时间间隔以达到减小或增加索引数量的效果，在 Pandas 中使用 resample() 函数。"
   ]
  },
  {
   "cell_type": "markdown",
   "metadata": {},
   "source": [
    "下采样：增大时间间隔，减少记录的数量"
   ]
  },
  {
   "cell_type": "code",
   "execution_count": 44,
   "metadata": {},
   "outputs": [
    {
     "data": {
      "text/plain": [
       "2018-10-01    22\n",
       "2018-10-02     3\n",
       "2018-10-03    24\n",
       "2018-10-04    36\n",
       "2018-10-05    21\n",
       "2018-10-06     3\n",
       "2018-10-07    18\n",
       "2018-10-08    41\n",
       "2018-10-09     1\n",
       "2018-10-10    31\n",
       "Freq: D, dtype: int32"
      ]
     },
     "execution_count": 44,
     "metadata": {},
     "output_type": "execute_result"
    }
   ],
   "source": [
    "rng = pd.date_range('10/1/2018', periods=10, freq='D')\n",
    "ts = pd.Series(np.random.randint(0, 50, len(rng)), index=rng)\n",
    "ts"
   ]
  },
  {
   "cell_type": "code",
   "execution_count": 45,
   "metadata": {},
   "outputs": [
    {
     "data": {
      "text/plain": [
       "2018-10-07    127\n",
       "2018-10-14     73\n",
       "Freq: W-SUN, dtype: int32"
      ]
     },
     "execution_count": 45,
     "metadata": {},
     "output_type": "execute_result"
    }
   ],
   "source": [
    "ts.resample('W').sum()"
   ]
  },
  {
   "cell_type": "code",
   "execution_count": 46,
   "metadata": {},
   "outputs": [
    {
     "data": {
      "text/plain": [
       "2018-10-07    18.142857\n",
       "2018-10-14    24.333333\n",
       "Freq: W-SUN, dtype: float64"
      ]
     },
     "execution_count": 46,
     "metadata": {},
     "output_type": "execute_result"
    }
   ],
   "source": [
    "ts.resample('W').mean()"
   ]
  },
  {
   "cell_type": "code",
   "execution_count": 47,
   "metadata": {},
   "outputs": [
    {
     "data": {
      "text/html": [
       "<div>\n",
       "<style scoped>\n",
       "    .dataframe tbody tr th:only-of-type {\n",
       "        vertical-align: middle;\n",
       "    }\n",
       "\n",
       "    .dataframe tbody tr th {\n",
       "        vertical-align: top;\n",
       "    }\n",
       "\n",
       "    .dataframe thead th {\n",
       "        text-align: right;\n",
       "    }\n",
       "</style>\n",
       "<table border=\"1\" class=\"dataframe\">\n",
       "  <thead>\n",
       "    <tr style=\"text-align: right;\">\n",
       "      <th></th>\n",
       "      <th>open</th>\n",
       "      <th>high</th>\n",
       "      <th>low</th>\n",
       "      <th>close</th>\n",
       "    </tr>\n",
       "  </thead>\n",
       "  <tbody>\n",
       "    <tr>\n",
       "      <th>2018-10-07</th>\n",
       "      <td>22</td>\n",
       "      <td>36</td>\n",
       "      <td>3</td>\n",
       "      <td>18</td>\n",
       "    </tr>\n",
       "    <tr>\n",
       "      <th>2018-10-14</th>\n",
       "      <td>41</td>\n",
       "      <td>41</td>\n",
       "      <td>1</td>\n",
       "      <td>31</td>\n",
       "    </tr>\n",
       "  </tbody>\n",
       "</table>\n",
       "</div>"
      ],
      "text/plain": [
       "            open  high  low  close\n",
       "2018-10-07    22    36    3     18\n",
       "2018-10-14    41    41    1     31"
      ]
     },
     "execution_count": 47,
     "metadata": {},
     "output_type": "execute_result"
    }
   ],
   "source": [
    "# 使用 ohlc() 函数对所有未被采样值进行统计\n",
    "ts.resample('W').ohlc()"
   ]
  },
  {
   "cell_type": "markdown",
   "metadata": {},
   "source": [
    "上采样：减小时间间隔频率，增加记录的数量"
   ]
  },
  {
   "cell_type": "code",
   "execution_count": 48,
   "metadata": {},
   "outputs": [
    {
     "data": {
      "text/plain": [
       "2018-10-01 00:00:00    22.0\n",
       "2018-10-01 12:00:00     NaN\n",
       "2018-10-02 00:00:00     3.0\n",
       "2018-10-02 12:00:00     NaN\n",
       "2018-10-03 00:00:00    24.0\n",
       "2018-10-03 12:00:00     NaN\n",
       "2018-10-04 00:00:00    36.0\n",
       "2018-10-04 12:00:00     NaN\n",
       "2018-10-05 00:00:00    21.0\n",
       "2018-10-05 12:00:00     NaN\n",
       "2018-10-06 00:00:00     3.0\n",
       "2018-10-06 12:00:00     NaN\n",
       "2018-10-07 00:00:00    18.0\n",
       "2018-10-07 12:00:00     NaN\n",
       "2018-10-08 00:00:00    41.0\n",
       "2018-10-08 12:00:00     NaN\n",
       "2018-10-09 00:00:00     1.0\n",
       "2018-10-09 12:00:00     NaN\n",
       "2018-10-10 00:00:00    31.0\n",
       "Freq: 12H, dtype: float64"
      ]
     },
     "execution_count": 48,
     "metadata": {},
     "output_type": "execute_result"
    }
   ],
   "source": [
    "ts.resample('12H').asfreq()"
   ]
  },
  {
   "cell_type": "code",
   "execution_count": 49,
   "metadata": {},
   "outputs": [
    {
     "data": {
      "text/plain": [
       "2018-10-01 00:00:00    22\n",
       "2018-10-01 12:00:00    22\n",
       "2018-10-02 00:00:00     3\n",
       "2018-10-02 12:00:00     3\n",
       "2018-10-03 00:00:00    24\n",
       "2018-10-03 12:00:00    24\n",
       "2018-10-04 00:00:00    36\n",
       "2018-10-04 12:00:00    36\n",
       "2018-10-05 00:00:00    21\n",
       "2018-10-05 12:00:00    21\n",
       "2018-10-06 00:00:00     3\n",
       "2018-10-06 12:00:00     3\n",
       "2018-10-07 00:00:00    18\n",
       "2018-10-07 12:00:00    18\n",
       "2018-10-08 00:00:00    41\n",
       "2018-10-08 12:00:00    41\n",
       "2018-10-09 00:00:00     1\n",
       "2018-10-09 12:00:00     1\n",
       "2018-10-10 00:00:00    31\n",
       "Freq: 12H, dtype: int32"
      ]
     },
     "execution_count": 49,
     "metadata": {},
     "output_type": "execute_result"
    }
   ],
   "source": [
    "ts.resample('12H').ffill()"
   ]
  },
  {
   "cell_type": "markdown",
   "metadata": {},
   "source": [
    "# 时间的算术方法"
   ]
  },
  {
   "cell_type": "markdown",
   "metadata": {},
   "source": [
    "首先要导入 pandas.tseries.offsets 模块，Pandas 所有常用时间类都在该模块中。"
   ]
  },
  {
   "cell_type": "code",
   "execution_count": 50,
   "metadata": {},
   "outputs": [
    {
     "data": {
      "text/plain": [
       "Timestamp('2018-10-01 10:01:01')"
      ]
     },
     "execution_count": 50,
     "metadata": {},
     "output_type": "execute_result"
    }
   ],
   "source": [
    "d = pd.Timestamp(2018, 10, 1, 10, 1, 1)\n",
    "d"
   ]
  },
  {
   "cell_type": "code",
   "execution_count": 51,
   "metadata": {},
   "outputs": [
    {
     "data": {
      "text/plain": [
       "Timestamp('2018-11-03 10:01:01')"
      ]
     },
     "execution_count": 51,
     "metadata": {},
     "output_type": "execute_result"
    }
   ],
   "source": [
    "from pandas.tseries.offsets import DateOffset\n",
    "\n",
    "# 向后移动一个月零两天\n",
    "d + DateOffset(months=1, days=2)"
   ]
  },
  {
   "cell_type": "code",
   "execution_count": 52,
   "metadata": {},
   "outputs": [
    {
     "data": {
      "text/plain": [
       "Timestamp('2018-09-17 10:01:01')"
      ]
     },
     "execution_count": 52,
     "metadata": {},
     "output_type": "execute_result"
    }
   ],
   "source": [
    "from pandas.tseries.offsets import BDay\n",
    "\n",
    "# 用时间戳加减常用时间类以实现时间戳位移。向前移动 10 个工作日\n",
    "d - 10 * BDay()"
   ]
  },
  {
   "cell_type": "code",
   "execution_count": 53,
   "metadata": {},
   "outputs": [
    {
     "data": {
      "text/plain": [
       "Timestamp('2018-10-31 10:01:01')"
      ]
     },
     "execution_count": 53,
     "metadata": {},
     "output_type": "execute_result"
    }
   ],
   "source": [
    "from pandas.tseries.offsets import BMonthEnd\n",
    "\n",
    "# 向后移动一个月末\n",
    "d + BMonthEnd()"
   ]
  },
  {
   "cell_type": "code",
   "execution_count": 54,
   "metadata": {},
   "outputs": [
    {
     "data": {
      "text/plain": [
       "Timestamp('2019-02-28 10:01:01')"
      ]
     },
     "execution_count": 54,
     "metadata": {},
     "output_type": "execute_result"
    }
   ],
   "source": [
    "from pandas.tseries.offsets import YearEnd\n",
    "\n",
    "# 虽然日历规定年末是 12 月，加入参数后相当于人为规定 2 月是年末\n",
    "# 向后移动到上两个年末\n",
    "d + YearEnd(month=2)"
   ]
  },
  {
   "cell_type": "code",
   "execution_count": 55,
   "metadata": {},
   "outputs": [
    {
     "data": {
      "text/plain": [
       "Timestamp('2018-09-28 10:01:01')"
      ]
     },
     "execution_count": 55,
     "metadata": {},
     "output_type": "execute_result"
    }
   ],
   "source": [
    "from pandas.tseries.offsets import Week\n",
    "\n",
    "# 向前移动到上一个周四\n",
    "d - Week(weekday=4)"
   ]
  },
  {
   "cell_type": "code",
   "execution_count": 56,
   "metadata": {},
   "outputs": [
    {
     "data": {
      "text/plain": [
       "Timestamp('2018-10-31 10:01:01')"
      ]
     },
     "execution_count": 56,
     "metadata": {},
     "output_type": "execute_result"
    }
   ],
   "source": [
    "# 将时间移动到下一个月末\n",
    "offset = BMonthEnd()\n",
    "offset.rollforward(d)"
   ]
  },
  {
   "cell_type": "code",
   "execution_count": 57,
   "metadata": {},
   "outputs": [
    {
     "data": {
      "text/plain": [
       "Timestamp('2018-09-28 10:01:01')"
      ]
     },
     "execution_count": 57,
     "metadata": {},
     "output_type": "execute_result"
    }
   ],
   "source": [
    "# 将时间移动到上一个月末\n",
    "offset.rollback(d)"
   ]
  },
  {
   "cell_type": "code",
   "execution_count": 60,
   "metadata": {},
   "outputs": [
    {
     "data": {
      "text/plain": [
       "DatetimeIndex(['2018-10-01', '2018-10-02', '2018-10-03', '2018-10-04',\n",
       "               '2018-10-05', '2018-10-06', '2018-10-07', '2018-10-08',\n",
       "               '2018-10-09', '2018-10-10'],\n",
       "              dtype='datetime64[ns]', freq='D')"
      ]
     },
     "execution_count": 60,
     "metadata": {},
     "output_type": "execute_result"
    }
   ],
   "source": [
    "rng"
   ]
  },
  {
   "cell_type": "code",
   "execution_count": 61,
   "metadata": {},
   "outputs": [
    {
     "data": {
      "text/plain": [
       "DatetimeIndex(['2018-10-03', '2018-10-04', '2018-10-05', '2018-10-06',\n",
       "               '2018-10-07', '2018-10-08', '2018-10-09', '2018-10-10',\n",
       "               '2018-10-11', '2018-10-12'],\n",
       "              dtype='datetime64[ns]', freq='D')"
      ]
     },
     "execution_count": 61,
     "metadata": {},
     "output_type": "execute_result"
    }
   ],
   "source": [
    "# 所有的时间索引向后移动两日\n",
    "rng + DateOffset(days=2)"
   ]
  },
  {
   "cell_type": "code",
   "execution_count": 62,
   "metadata": {},
   "outputs": [
    {
     "data": {
      "text/plain": [
       "DatetimeIndex(['2018-10-03', '2018-10-04', '2018-10-05', '2018-10-08',\n",
       "               '2018-10-09', '2018-10-09', '2018-10-09', '2018-10-10',\n",
       "               '2018-10-11', '2018-10-12'],\n",
       "              dtype='datetime64[ns]', freq=None)"
      ]
     },
     "execution_count": 62,
     "metadata": {},
     "output_type": "execute_result"
    }
   ],
   "source": [
    "# 所有的时间索引向后移动两个工作日\n",
    "rng + 2*BDay()"
   ]
  },
  {
   "cell_type": "code",
   "execution_count": 63,
   "metadata": {},
   "outputs": [
    {
     "data": {
      "text/plain": [
       "DatetimeIndex(['2018-10-01 00:15:00', '2018-10-02 00:15:00',\n",
       "               '2018-10-03 00:15:00', '2018-10-04 00:15:00',\n",
       "               '2018-10-05 00:15:00', '2018-10-06 00:15:00',\n",
       "               '2018-10-07 00:15:00', '2018-10-08 00:15:00',\n",
       "               '2018-10-09 00:15:00', '2018-10-10 00:15:00'],\n",
       "              dtype='datetime64[ns]', freq='D')"
      ]
     },
     "execution_count": 63,
     "metadata": {},
     "output_type": "execute_result"
    }
   ],
   "source": [
    "from pandas.tseries.offsets import Minute\n",
    "\n",
    "# 所有的时间索引向后移动 15 分钟\n",
    "rng + Minute(15)"
   ]
  },
  {
   "cell_type": "code",
   "execution_count": 64,
   "metadata": {},
   "outputs": [
    {
     "data": {
      "text/plain": [
       "DatetimeIndex([       '2018-10-01 00:00:00', '2018-10-02 01:01:00.000010',\n",
       "               '2018-10-03 02:02:00.000020', '2018-10-04 03:03:00.000030',\n",
       "               '2018-10-05 04:04:00.000040', '2018-10-06 05:05:00.000050',\n",
       "               '2018-10-07 06:06:00.000060', '2018-10-08 07:07:00.000070',\n",
       "               '2018-10-09 08:08:00.000080', '2018-10-10 09:09:00.000090'],\n",
       "              dtype='datetime64[ns]', freq='90060000010U')"
      ]
     },
     "execution_count": 64,
     "metadata": {},
     "output_type": "execute_result"
    }
   ],
   "source": [
    "# 创建 10 条以 2018 年 10 月 1 日为开始，间隔为 1 天 1 小时 1 分钟 10 微秒的时间索引\n",
    "pd.date_range(\"2018-10-1\", periods=10, freq='1D1H1min10U')"
   ]
  },
  {
   "cell_type": "code",
   "execution_count": 65,
   "metadata": {},
   "outputs": [
    {
     "data": {
      "text/plain": [
       "DatetimeIndex(['2018-10-03', '2018-10-10', '2018-10-17', '2018-10-24',\n",
       "               '2018-10-31', '2018-11-07', '2018-11-14', '2018-11-21',\n",
       "               '2018-11-28', '2018-12-05'],\n",
       "              dtype='datetime64[ns]', freq='W-WED')"
      ]
     },
     "execution_count": 65,
     "metadata": {},
     "output_type": "execute_result"
    }
   ],
   "source": [
    "# 创建 10 条以 2018 年 10 月 1 日为开始，间隔为每周三的时间索引\n",
    "pd.date_range(\"2018-10-1\", periods=10, freq='W-WED')"
   ]
  },
  {
   "cell_type": "code",
   "execution_count": 66,
   "metadata": {},
   "outputs": [
    {
     "data": {
      "text/plain": [
       "Timestamp('2018-11-01 00:00:00')"
      ]
     },
     "execution_count": 66,
     "metadata": {},
     "output_type": "execute_result"
    }
   ],
   "source": [
    "from pandas.tseries.offsets import MonthBegin\n",
    "\n",
    "# n = 1 时 起始点参与计算\n",
    "pd.Timestamp('2018-10-1') + MonthBegin(n=1)"
   ]
  },
  {
   "cell_type": "code",
   "execution_count": 67,
   "metadata": {},
   "outputs": [
    {
     "data": {
      "text/plain": [
       "Timestamp('2018-10-01 00:00:00')"
      ]
     },
     "execution_count": 67,
     "metadata": {},
     "output_type": "execute_result"
    }
   ],
   "source": [
    "pd.Timestamp('2018-10-1') + MonthBegin(n=0)"
   ]
  },
  {
   "cell_type": "markdown",
   "metadata": {},
   "source": [
    "### 下采样聚合"
   ]
  },
  {
   "cell_type": "code",
   "execution_count": 68,
   "metadata": {},
   "outputs": [
    {
     "data": {
      "text/plain": [
       "<pandas.core.resample.DatetimeIndexResampler object at 0x0000022F7050C3C8>"
      ]
     },
     "execution_count": 68,
     "metadata": {},
     "output_type": "execute_result"
    }
   ],
   "source": [
    "# 创建 100 个日历日为时间索引的 DataFrame，将其以月频率下采样\n",
    "df = pd.DataFrame(np.random.rand(100, 3),\n",
    "                  index=pd.date_range('10/1/2018', freq='D', periods=100),\n",
    "                  columns=['A', 'B', 'C'])\n",
    "r = df.resample('M')\n",
    "r"
   ]
  },
  {
   "cell_type": "code",
   "execution_count": 69,
   "metadata": {},
   "outputs": [
    {
     "data": {
      "text/html": [
       "<div>\n",
       "<style scoped>\n",
       "    .dataframe tbody tr th:only-of-type {\n",
       "        vertical-align: middle;\n",
       "    }\n",
       "\n",
       "    .dataframe tbody tr th {\n",
       "        vertical-align: top;\n",
       "    }\n",
       "\n",
       "    .dataframe thead th {\n",
       "        text-align: right;\n",
       "    }\n",
       "</style>\n",
       "<table border=\"1\" class=\"dataframe\">\n",
       "  <thead>\n",
       "    <tr style=\"text-align: right;\">\n",
       "      <th></th>\n",
       "      <th>A</th>\n",
       "      <th>B</th>\n",
       "      <th>C</th>\n",
       "    </tr>\n",
       "  </thead>\n",
       "  <tbody>\n",
       "    <tr>\n",
       "      <th>2018-10-31</th>\n",
       "      <td>15.186537</td>\n",
       "      <td>16.622066</td>\n",
       "      <td>14.853633</td>\n",
       "    </tr>\n",
       "    <tr>\n",
       "      <th>2018-11-30</th>\n",
       "      <td>15.125161</td>\n",
       "      <td>12.804529</td>\n",
       "      <td>13.439733</td>\n",
       "    </tr>\n",
       "    <tr>\n",
       "      <th>2018-12-31</th>\n",
       "      <td>14.963523</td>\n",
       "      <td>14.953596</td>\n",
       "      <td>12.129949</td>\n",
       "    </tr>\n",
       "    <tr>\n",
       "      <th>2019-01-31</th>\n",
       "      <td>5.216451</td>\n",
       "      <td>4.344628</td>\n",
       "      <td>2.803167</td>\n",
       "    </tr>\n",
       "  </tbody>\n",
       "</table>\n",
       "</div>"
      ],
      "text/plain": [
       "                    A          B          C\n",
       "2018-10-31  15.186537  16.622066  14.853633\n",
       "2018-11-30  15.125161  12.804529  13.439733\n",
       "2018-12-31  14.963523  14.953596  12.129949\n",
       "2019-01-31   5.216451   4.344628   2.803167"
      ]
     },
     "execution_count": 69,
     "metadata": {},
     "output_type": "execute_result"
    }
   ],
   "source": [
    "r.sum()"
   ]
  },
  {
   "cell_type": "code",
   "execution_count": 70,
   "metadata": {},
   "outputs": [
    {
     "data": {
      "text/html": [
       "<div>\n",
       "<style scoped>\n",
       "    .dataframe tbody tr th:only-of-type {\n",
       "        vertical-align: middle;\n",
       "    }\n",
       "\n",
       "    .dataframe tbody tr th {\n",
       "        vertical-align: top;\n",
       "    }\n",
       "\n",
       "    .dataframe thead th {\n",
       "        text-align: right;\n",
       "    }\n",
       "</style>\n",
       "<table border=\"1\" class=\"dataframe\">\n",
       "  <thead>\n",
       "    <tr style=\"text-align: right;\">\n",
       "      <th></th>\n",
       "      <th>A</th>\n",
       "      <th>C</th>\n",
       "    </tr>\n",
       "  </thead>\n",
       "  <tbody>\n",
       "    <tr>\n",
       "      <th>2018-10-31</th>\n",
       "      <td>0.489888</td>\n",
       "      <td>0.479149</td>\n",
       "    </tr>\n",
       "    <tr>\n",
       "      <th>2018-11-30</th>\n",
       "      <td>0.504172</td>\n",
       "      <td>0.447991</td>\n",
       "    </tr>\n",
       "    <tr>\n",
       "      <th>2018-12-31</th>\n",
       "      <td>0.482694</td>\n",
       "      <td>0.391289</td>\n",
       "    </tr>\n",
       "    <tr>\n",
       "      <th>2019-01-31</th>\n",
       "      <td>0.652056</td>\n",
       "      <td>0.350396</td>\n",
       "    </tr>\n",
       "  </tbody>\n",
       "</table>\n",
       "</div>"
      ],
      "text/plain": [
       "                   A         C\n",
       "2018-10-31  0.489888  0.479149\n",
       "2018-11-30  0.504172  0.447991\n",
       "2018-12-31  0.482694  0.391289\n",
       "2019-01-31  0.652056  0.350396"
      ]
     },
     "execution_count": 70,
     "metadata": {},
     "output_type": "execute_result"
    }
   ],
   "source": [
    "# 在下采样后也能进行查找操作。选择 A、C 列后取均值计算\n",
    "r[['A', 'C']].mean()"
   ]
  },
  {
   "cell_type": "code",
   "execution_count": 72,
   "metadata": {},
   "outputs": [
    {
     "data": {
      "text/html": [
       "<div>\n",
       "<style scoped>\n",
       "    .dataframe tbody tr th:only-of-type {\n",
       "        vertical-align: middle;\n",
       "    }\n",
       "\n",
       "    .dataframe tbody tr th {\n",
       "        vertical-align: top;\n",
       "    }\n",
       "\n",
       "    .dataframe thead tr th {\n",
       "        text-align: left;\n",
       "    }\n",
       "</style>\n",
       "<table border=\"1\" class=\"dataframe\">\n",
       "  <thead>\n",
       "    <tr>\n",
       "      <th></th>\n",
       "      <th colspan=\"2\" halign=\"left\">A</th>\n",
       "      <th colspan=\"2\" halign=\"left\">B</th>\n",
       "      <th colspan=\"2\" halign=\"left\">C</th>\n",
       "    </tr>\n",
       "    <tr>\n",
       "      <th></th>\n",
       "      <th>sum</th>\n",
       "      <th>mean</th>\n",
       "      <th>sum</th>\n",
       "      <th>mean</th>\n",
       "      <th>sum</th>\n",
       "      <th>mean</th>\n",
       "    </tr>\n",
       "  </thead>\n",
       "  <tbody>\n",
       "    <tr>\n",
       "      <th>2018-10-31</th>\n",
       "      <td>15.186537</td>\n",
       "      <td>0.489888</td>\n",
       "      <td>16.622066</td>\n",
       "      <td>0.536196</td>\n",
       "      <td>14.853633</td>\n",
       "      <td>0.479149</td>\n",
       "    </tr>\n",
       "    <tr>\n",
       "      <th>2018-11-30</th>\n",
       "      <td>15.125161</td>\n",
       "      <td>0.504172</td>\n",
       "      <td>12.804529</td>\n",
       "      <td>0.426818</td>\n",
       "      <td>13.439733</td>\n",
       "      <td>0.447991</td>\n",
       "    </tr>\n",
       "    <tr>\n",
       "      <th>2018-12-31</th>\n",
       "      <td>14.963523</td>\n",
       "      <td>0.482694</td>\n",
       "      <td>14.953596</td>\n",
       "      <td>0.482374</td>\n",
       "      <td>12.129949</td>\n",
       "      <td>0.391289</td>\n",
       "    </tr>\n",
       "    <tr>\n",
       "      <th>2019-01-31</th>\n",
       "      <td>5.216451</td>\n",
       "      <td>0.652056</td>\n",
       "      <td>4.344628</td>\n",
       "      <td>0.543079</td>\n",
       "      <td>2.803167</td>\n",
       "      <td>0.350396</td>\n",
       "    </tr>\n",
       "  </tbody>\n",
       "</table>\n",
       "</div>"
      ],
      "text/plain": [
       "                    A                    B                    C          \n",
       "                  sum      mean        sum      mean        sum      mean\n",
       "2018-10-31  15.186537  0.489888  16.622066  0.536196  14.853633  0.479149\n",
       "2018-11-30  15.125161  0.504172  12.804529  0.426818  13.439733  0.447991\n",
       "2018-12-31  14.963523  0.482694  14.953596  0.482374  12.129949  0.391289\n",
       "2019-01-31   5.216451  0.652056   4.344628  0.543079   2.803167  0.350396"
      ]
     },
     "execution_count": 72,
     "metadata": {},
     "output_type": "execute_result"
    }
   ],
   "source": [
    "r.agg([np.sum, np.mean])"
   ]
  },
  {
   "cell_type": "code",
   "execution_count": 73,
   "metadata": {},
   "outputs": [
    {
     "data": {
      "text/html": [
       "<div>\n",
       "<style scoped>\n",
       "    .dataframe tbody tr th:only-of-type {\n",
       "        vertical-align: middle;\n",
       "    }\n",
       "\n",
       "    .dataframe tbody tr th {\n",
       "        vertical-align: top;\n",
       "    }\n",
       "\n",
       "    .dataframe thead th {\n",
       "        text-align: right;\n",
       "    }\n",
       "</style>\n",
       "<table border=\"1\" class=\"dataframe\">\n",
       "  <thead>\n",
       "    <tr style=\"text-align: right;\">\n",
       "      <th></th>\n",
       "      <th>sum</th>\n",
       "      <th>mean</th>\n",
       "      <th>std</th>\n",
       "    </tr>\n",
       "  </thead>\n",
       "  <tbody>\n",
       "    <tr>\n",
       "      <th>2018-10-31</th>\n",
       "      <td>15.186537</td>\n",
       "      <td>0.489888</td>\n",
       "      <td>0.294321</td>\n",
       "    </tr>\n",
       "    <tr>\n",
       "      <th>2018-11-30</th>\n",
       "      <td>15.125161</td>\n",
       "      <td>0.504172</td>\n",
       "      <td>0.291262</td>\n",
       "    </tr>\n",
       "    <tr>\n",
       "      <th>2018-12-31</th>\n",
       "      <td>14.963523</td>\n",
       "      <td>0.482694</td>\n",
       "      <td>0.230857</td>\n",
       "    </tr>\n",
       "    <tr>\n",
       "      <th>2019-01-31</th>\n",
       "      <td>5.216451</td>\n",
       "      <td>0.652056</td>\n",
       "      <td>0.257419</td>\n",
       "    </tr>\n",
       "  </tbody>\n",
       "</table>\n",
       "</div>"
      ],
      "text/plain": [
       "                  sum      mean       std\n",
       "2018-10-31  15.186537  0.489888  0.294321\n",
       "2018-11-30  15.125161  0.504172  0.291262\n",
       "2018-12-31  14.963523  0.482694  0.230857\n",
       "2019-01-31   5.216451  0.652056  0.257419"
      ]
     },
     "execution_count": 73,
     "metadata": {},
     "output_type": "execute_result"
    }
   ],
   "source": [
    "r['A'].agg([np.sum, np.mean, np.std])"
   ]
  },
  {
   "cell_type": "code",
   "execution_count": 74,
   "metadata": {},
   "outputs": [
    {
     "data": {
      "text/html": [
       "<div>\n",
       "<style scoped>\n",
       "    .dataframe tbody tr th:only-of-type {\n",
       "        vertical-align: middle;\n",
       "    }\n",
       "\n",
       "    .dataframe tbody tr th {\n",
       "        vertical-align: top;\n",
       "    }\n",
       "\n",
       "    .dataframe thead tr th {\n",
       "        text-align: left;\n",
       "    }\n",
       "</style>\n",
       "<table border=\"1\" class=\"dataframe\">\n",
       "  <thead>\n",
       "    <tr>\n",
       "      <th></th>\n",
       "      <th colspan=\"2\" halign=\"left\">A</th>\n",
       "      <th colspan=\"2\" halign=\"left\">B</th>\n",
       "    </tr>\n",
       "    <tr>\n",
       "      <th></th>\n",
       "      <th>sum</th>\n",
       "      <th>std</th>\n",
       "      <th>mean</th>\n",
       "      <th>std</th>\n",
       "    </tr>\n",
       "  </thead>\n",
       "  <tbody>\n",
       "    <tr>\n",
       "      <th>2018-10-31</th>\n",
       "      <td>15.186537</td>\n",
       "      <td>0.294321</td>\n",
       "      <td>0.536196</td>\n",
       "      <td>0.308575</td>\n",
       "    </tr>\n",
       "    <tr>\n",
       "      <th>2018-11-30</th>\n",
       "      <td>15.125161</td>\n",
       "      <td>0.291262</td>\n",
       "      <td>0.426818</td>\n",
       "      <td>0.281501</td>\n",
       "    </tr>\n",
       "    <tr>\n",
       "      <th>2018-12-31</th>\n",
       "      <td>14.963523</td>\n",
       "      <td>0.230857</td>\n",
       "      <td>0.482374</td>\n",
       "      <td>0.283335</td>\n",
       "    </tr>\n",
       "    <tr>\n",
       "      <th>2019-01-31</th>\n",
       "      <td>5.216451</td>\n",
       "      <td>0.257419</td>\n",
       "      <td>0.543079</td>\n",
       "      <td>0.261125</td>\n",
       "    </tr>\n",
       "  </tbody>\n",
       "</table>\n",
       "</div>"
      ],
      "text/plain": [
       "                    A                   B          \n",
       "                  sum       std      mean       std\n",
       "2018-10-31  15.186537  0.294321  0.536196  0.308575\n",
       "2018-11-30  15.125161  0.291262  0.426818  0.281501\n",
       "2018-12-31  14.963523  0.230857  0.482374  0.283335\n",
       "2019-01-31   5.216451  0.257419  0.543079  0.261125"
      ]
     },
     "execution_count": 74,
     "metadata": {},
     "output_type": "execute_result"
    }
   ],
   "source": [
    "r.agg({'A': ['sum', 'std'], 'B': ['mean', 'std']})"
   ]
  },
  {
   "cell_type": "code",
   "execution_count": null,
   "metadata": {},
   "outputs": [],
   "source": []
  }
 ],
 "metadata": {
  "kernelspec": {
   "display_name": "Python 3",
   "language": "python",
   "name": "python3"
  },
  "language_info": {
   "codemirror_mode": {
    "name": "ipython",
    "version": 3
   },
   "file_extension": ".py",
   "mimetype": "text/x-python",
   "name": "python",
   "nbconvert_exporter": "python",
   "pygments_lexer": "ipython3",
   "version": "3.7.6"
  }
 },
 "nbformat": 4,
 "nbformat_minor": 4
}
