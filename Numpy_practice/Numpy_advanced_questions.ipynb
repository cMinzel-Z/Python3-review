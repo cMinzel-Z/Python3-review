{
 "cells": [
  {
   "cell_type": "code",
   "execution_count": 4,
   "metadata": {},
   "outputs": [],
   "source": [
    "import numpy as np"
   ]
  },
  {
   "cell_type": "code",
   "execution_count": 28,
   "metadata": {},
   "outputs": [
    {
     "data": {
      "text/plain": [
       "'1.18.1'"
      ]
     },
     "execution_count": 28,
     "metadata": {},
     "output_type": "execute_result"
    }
   ],
   "source": [
    "np.__version__"
   ]
  },
  {
   "cell_type": "markdown",
   "metadata": {},
   "source": [
    "# 进阶部分"
   ]
  },
  {
   "cell_type": "markdown",
   "metadata": {},
   "source": [
    "创建一个 5x5 的二维数组，其中边界值为1，其余值为0"
   ]
  },
  {
   "cell_type": "code",
   "execution_count": 5,
   "metadata": {},
   "outputs": [
    {
     "data": {
      "text/plain": [
       "array([[1., 1., 1., 1., 1.],\n",
       "       [1., 0., 0., 0., 1.],\n",
       "       [1., 0., 0., 0., 1.],\n",
       "       [1., 0., 0., 0., 1.],\n",
       "       [1., 1., 1., 1., 1.]])"
      ]
     },
     "execution_count": 5,
     "metadata": {},
     "output_type": "execute_result"
    }
   ],
   "source": [
    "Z = np.ones((5, 5))\n",
    "Z[1:-1, 1:-1] = 0\n",
    "Z"
   ]
  },
  {
   "cell_type": "markdown",
   "metadata": {},
   "source": [
    "使用数字 0 将一个全为 1 的 5x5 二维数组包围"
   ]
  },
  {
   "cell_type": "code",
   "execution_count": 6,
   "metadata": {},
   "outputs": [
    {
     "data": {
      "text/plain": [
       "array([[0., 0., 0., 0., 0., 0., 0.],\n",
       "       [0., 1., 1., 1., 1., 1., 0.],\n",
       "       [0., 1., 1., 1., 1., 1., 0.],\n",
       "       [0., 1., 1., 1., 1., 1., 0.],\n",
       "       [0., 1., 1., 1., 1., 1., 0.],\n",
       "       [0., 1., 1., 1., 1., 1., 0.],\n",
       "       [0., 0., 0., 0., 0., 0., 0.]])"
      ]
     },
     "execution_count": 6,
     "metadata": {},
     "output_type": "execute_result"
    }
   ],
   "source": [
    "Z = np.ones((5, 5))\n",
    "Z = np.pad(Z, pad_width=1, mode='constant', constant_values=0)\n",
    "Z"
   ]
  },
  {
   "cell_type": "markdown",
   "metadata": {},
   "source": [
    "创建一个 5x5 的二维数组，并设置值 1, 2, 3, 4 落在其对角线下方"
   ]
  },
  {
   "cell_type": "code",
   "execution_count": 7,
   "metadata": {},
   "outputs": [
    {
     "data": {
      "text/plain": [
       "array([[0, 0, 0, 0, 0],\n",
       "       [1, 0, 0, 0, 0],\n",
       "       [0, 2, 0, 0, 0],\n",
       "       [0, 0, 3, 0, 0],\n",
       "       [0, 0, 0, 4, 0]])"
      ]
     },
     "execution_count": 7,
     "metadata": {},
     "output_type": "execute_result"
    }
   ],
   "source": [
    "Z = np.diag(np.arange(1,5), k=-1)\n",
    "Z"
   ]
  },
  {
   "cell_type": "markdown",
   "metadata": {},
   "source": [
    "创建一个 10x10 的二维数组，并使得 1 和 0 沿对角线间隔放置"
   ]
  },
  {
   "cell_type": "code",
   "execution_count": 8,
   "metadata": {},
   "outputs": [
    {
     "data": {
      "text/plain": [
       "array([[0, 1, 0, 1, 0, 1, 0, 1, 0, 1],\n",
       "       [1, 0, 1, 0, 1, 0, 1, 0, 1, 0],\n",
       "       [0, 1, 0, 1, 0, 1, 0, 1, 0, 1],\n",
       "       [1, 0, 1, 0, 1, 0, 1, 0, 1, 0],\n",
       "       [0, 1, 0, 1, 0, 1, 0, 1, 0, 1],\n",
       "       [1, 0, 1, 0, 1, 0, 1, 0, 1, 0],\n",
       "       [0, 1, 0, 1, 0, 1, 0, 1, 0, 1],\n",
       "       [1, 0, 1, 0, 1, 0, 1, 0, 1, 0],\n",
       "       [0, 1, 0, 1, 0, 1, 0, 1, 0, 1],\n",
       "       [1, 0, 1, 0, 1, 0, 1, 0, 1, 0]])"
      ]
     },
     "execution_count": 8,
     "metadata": {},
     "output_type": "execute_result"
    }
   ],
   "source": [
    "Z = np.zeros((10, 10), dtype=int)\n",
    "Z[1::2, ::2] = 1\n",
    "Z[::2, 1::2] = 1\n",
    "Z"
   ]
  },
  {
   "cell_type": "markdown",
   "metadata": {},
   "source": [
    "创建一个 0-10 的一维数组，并将 (1, 9] 之间的数全部反转成负数"
   ]
  },
  {
   "cell_type": "code",
   "execution_count": 9,
   "metadata": {},
   "outputs": [
    {
     "data": {
      "text/plain": [
       "array([ 0,  1, -2, -3, -4, -5, -6, -7, -8, -9, 10])"
      ]
     },
     "execution_count": 9,
     "metadata": {},
     "output_type": "execute_result"
    }
   ],
   "source": [
    "Z = np.arange(11)\n",
    "Z[(1 < Z) & (Z <= 9)] *= -1\n",
    "Z"
   ]
  },
  {
   "cell_type": "markdown",
   "metadata": {},
   "source": [
    "找出两个一维数组中相同的元素"
   ]
  },
  {
   "cell_type": "code",
   "execution_count": 10,
   "metadata": {},
   "outputs": [
    {
     "name": "stdout",
     "output_type": "stream",
     "text": [
      "Z1: [6 9 0 6 1 6 9 3 0 2]\n",
      "Z2: [2 0 5 1 4 0 1 0 3 6]\n"
     ]
    },
    {
     "data": {
      "text/plain": [
       "array([0, 1, 2, 3, 6])"
      ]
     },
     "execution_count": 10,
     "metadata": {},
     "output_type": "execute_result"
    }
   ],
   "source": [
    "Z1 = np.random.randint(0, 10, 10)\n",
    "Z2 = np.random.randint(0, 10, 10)\n",
    "print(\"Z1:\", Z1)\n",
    "print(\"Z2:\", Z2)\n",
    "\n",
    "np.intersect1d(Z1, Z2)"
   ]
  },
  {
   "cell_type": "markdown",
   "metadata": {},
   "source": [
    "使用 NumPy 打印昨天、今天、明天的日期"
   ]
  },
  {
   "cell_type": "code",
   "execution_count": 11,
   "metadata": {},
   "outputs": [
    {
     "name": "stdout",
     "output_type": "stream",
     "text": [
      "yesterday:  2020-04-12\n",
      "today:  2020-04-13\n",
      "tomorrow:  2020-04-14\n"
     ]
    }
   ],
   "source": [
    "yesterday = np.datetime64('today', 'D') - np.timedelta64(1, 'D')\n",
    "today = np.datetime64('today', 'D')\n",
    "tomorrow = np.datetime64('today', 'D') + np.timedelta64(1, 'D')\n",
    "print(\"yesterday: \", yesterday)\n",
    "print(\"today: \", today)\n",
    "print(\"tomorrow: \", tomorrow)"
   ]
  },
  {
   "cell_type": "markdown",
   "metadata": {},
   "source": [
    "使用五种不同的方法去提取一个随机数组的整数部分"
   ]
  },
  {
   "cell_type": "code",
   "execution_count": 12,
   "metadata": {},
   "outputs": [
    {
     "name": "stdout",
     "output_type": "stream",
     "text": [
      "原始值:  [4.29166324 1.17821231 2.43039014 2.77053419 9.28175973 6.73821197\n",
      " 5.86485949 1.42521336 0.60643133 1.15227879]\n",
      "方法 1:  [4. 1. 2. 2. 9. 6. 5. 1. 0. 1.]\n",
      "方法 2:  [4. 1. 2. 2. 9. 6. 5. 1. 0. 1.]\n",
      "方法 3:  [4. 1. 2. 2. 9. 6. 5. 1. 0. 1.]\n",
      "方法 4:  [4 1 2 2 9 6 5 1 0 1]\n",
      "方法 5:  [4. 1. 2. 2. 9. 6. 5. 1. 0. 1.]\n"
     ]
    }
   ],
   "source": [
    "Z = np.random.uniform(0, 10, 10)\n",
    "print(\"原始值: \", Z)\n",
    "\n",
    "print(\"方法 1: \", Z - Z % 1)\n",
    "print(\"方法 2: \", np.floor(Z))\n",
    "print(\"方法 3: \", np.ceil(Z)-1)\n",
    "print(\"方法 4: \", Z.astype(int))\n",
    "print(\"方法 5: \", np.trunc(Z))"
   ]
  },
  {
   "cell_type": "markdown",
   "metadata": {},
   "source": [
    "创建一个 5x5 的矩阵，其中每行的数值范围从 1 到 5"
   ]
  },
  {
   "cell_type": "code",
   "execution_count": 13,
   "metadata": {},
   "outputs": [
    {
     "data": {
      "text/plain": [
       "array([[1., 2., 3., 4., 5.],\n",
       "       [1., 2., 3., 4., 5.],\n",
       "       [1., 2., 3., 4., 5.],\n",
       "       [1., 2., 3., 4., 5.],\n",
       "       [1., 2., 3., 4., 5.]])"
      ]
     },
     "execution_count": 13,
     "metadata": {},
     "output_type": "execute_result"
    }
   ],
   "source": [
    "Z = np.zeros((5, 5))\n",
    "Z += np.arange(1, 6)\n",
    "\n",
    "Z"
   ]
  },
  {
   "cell_type": "markdown",
   "metadata": {},
   "source": [
    "创建一个长度为 5 的等间隔一维数组，其值域范围从 0 到 1，但是不包括 0 和 1"
   ]
  },
  {
   "cell_type": "code",
   "execution_count": 14,
   "metadata": {},
   "outputs": [
    {
     "data": {
      "text/plain": [
       "array([0.16666667, 0.33333333, 0.5       , 0.66666667, 0.83333333])"
      ]
     },
     "execution_count": 14,
     "metadata": {},
     "output_type": "execute_result"
    }
   ],
   "source": [
    "Z = np.linspace(0, 1, 6, endpoint=False)[1:]\n",
    "\n",
    "Z"
   ]
  },
  {
   "cell_type": "markdown",
   "metadata": {},
   "source": [
    "创建一个长度为10的随机一维数组，并将其按升序排序"
   ]
  },
  {
   "cell_type": "code",
   "execution_count": 15,
   "metadata": {},
   "outputs": [
    {
     "data": {
      "text/plain": [
       "array([0.00740738, 0.1072643 , 0.1639722 , 0.19633266, 0.31935598,\n",
       "       0.65379636, 0.66130803, 0.67425653, 0.83085774, 0.9676467 ])"
      ]
     },
     "execution_count": 15,
     "metadata": {},
     "output_type": "execute_result"
    }
   ],
   "source": [
    "Z = np.random.random(10)\n",
    "Z.sort()\n",
    "Z"
   ]
  },
  {
   "cell_type": "markdown",
   "metadata": {},
   "source": [
    "创建一个 3x3 的二维数组，并将列按升序排序"
   ]
  },
  {
   "cell_type": "code",
   "execution_count": 35,
   "metadata": {},
   "outputs": [
    {
     "name": "stdout",
     "output_type": "stream",
     "text": [
      "原始数组: \n",
      " [[8 2 5]\n",
      " [2 4 8]\n",
      " [7 2 0]]\n"
     ]
    },
    {
     "data": {
      "text/plain": [
       "array([[2, 2, 0],\n",
       "       [7, 2, 5],\n",
       "       [8, 4, 8]])"
      ]
     },
     "execution_count": 35,
     "metadata": {},
     "output_type": "execute_result"
    }
   ],
   "source": [
    "Z = np.random.randint(10, size=9).reshape(3,3)\n",
    "print(\"原始数组: \\n\", Z)\n",
    "\n",
    "Z.sort(axis=0)\n",
    "Z"
   ]
  },
  {
   "cell_type": "markdown",
   "metadata": {},
   "source": [
    "创建一个长度为 5 的一维数组，并将其中最大值替换成 0"
   ]
  },
  {
   "cell_type": "code",
   "execution_count": 36,
   "metadata": {},
   "outputs": [
    {
     "name": "stdout",
     "output_type": "stream",
     "text": [
      "原数组:  [0.06304265 0.18726889 0.544823   0.38126071 0.6970796 ]\n"
     ]
    },
    {
     "data": {
      "text/plain": [
       "array([0.06304265, 0.18726889, 0.544823  , 0.38126071, 0.        ])"
      ]
     },
     "execution_count": 36,
     "metadata": {},
     "output_type": "execute_result"
    }
   ],
   "source": [
    "Z = np.random.random(5)\n",
    "print(\"原数组: \", Z)\n",
    "Z[Z.argmax()] = 0\n",
    "Z"
   ]
  },
  {
   "cell_type": "markdown",
   "metadata": {},
   "source": [
    "打印每个 NumPy 标量类型的最小值和最大值"
   ]
  },
  {
   "cell_type": "code",
   "execution_count": 37,
   "metadata": {},
   "outputs": [
    {
     "name": "stdout",
     "output_type": "stream",
     "text": [
      "The minimum value of <class 'numpy.int8'>:  -128\n",
      "The maximum value of <class 'numpy.int8'>:  127\n",
      "The minimum value of <class 'numpy.int32'>:  -2147483648\n",
      "The maximum value of <class 'numpy.int32'>:  2147483647\n",
      "The minimum value of <class 'numpy.int64'>:  -9223372036854775808\n",
      "The maximum value of <class 'numpy.int64'>:  9223372036854775807\n",
      "The minimum value of <class 'numpy.float32'>:  -3.4028235e+38\n",
      "The maximum value of <class 'numpy.float32'>:  3.4028235e+38\n",
      "The minimum value of <class 'numpy.float64'>:  -1.7976931348623157e+308\n",
      "The maximum value of <class 'numpy.float64'>:  1.7976931348623157e+308\n"
     ]
    }
   ],
   "source": [
    "for dtype in [np.int8, np.int32, np.int64]:\n",
    "    print(\"The minimum value of {}: \".format(dtype), np.iinfo(dtype).min)\n",
    "    print(\"The maximum value of {}: \".format(dtype), np.iinfo(dtype).max)\n",
    "for dtype in [np.float32, np.float64]:\n",
    "    print(\"The minimum value of {}: \".format(dtype), np.finfo(dtype).min)\n",
    "    print(\"The maximum value of {}: \".format(dtype), np.finfo(dtype).max)"
   ]
  },
  {
   "cell_type": "markdown",
   "metadata": {},
   "source": [
    "将 float32 转换为整型"
   ]
  },
  {
   "cell_type": "code",
   "execution_count": 38,
   "metadata": {},
   "outputs": [
    {
     "name": "stdout",
     "output_type": "stream",
     "text": [
      "[0. 1. 2. 3. 4. 5. 6. 7. 8. 9.]\n"
     ]
    },
    {
     "data": {
      "text/plain": [
       "array([0, 1, 2, 3, 4, 5, 6, 7, 8, 9])"
      ]
     },
     "execution_count": 38,
     "metadata": {},
     "output_type": "execute_result"
    }
   ],
   "source": [
    "Z = np.arange(10, dtype=np.float32)\n",
    "print(Z)\n",
    "\n",
    "Z = Z.astype(np.int32, copy=False)\n",
    "Z"
   ]
  },
  {
   "cell_type": "markdown",
   "metadata": {},
   "source": [
    "将随机二维数组按照第 3 列从上到下进行升序排列"
   ]
  },
  {
   "cell_type": "code",
   "execution_count": 39,
   "metadata": {},
   "outputs": [
    {
     "name": "stdout",
     "output_type": "stream",
     "text": [
      "排序前：\n",
      " [[2 6 6 1 8]\n",
      " [0 7 0 9 9]\n",
      " [3 3 4 1 9]\n",
      " [3 0 3 3 8]\n",
      " [6 0 0 4 0]]\n"
     ]
    },
    {
     "data": {
      "text/plain": [
       "array([[0, 7, 0, 9, 9],\n",
       "       [6, 0, 0, 4, 0],\n",
       "       [3, 0, 3, 3, 8],\n",
       "       [3, 3, 4, 1, 9],\n",
       "       [2, 6, 6, 1, 8]])"
      ]
     },
     "execution_count": 39,
     "metadata": {},
     "output_type": "execute_result"
    }
   ],
   "source": [
    "Z = np.random.randint(0, 10, (5, 5))\n",
    "print(\"排序前：\\n\", Z)\n",
    "\n",
    "Z[Z[:, 2].argsort()]"
   ]
  },
  {
   "cell_type": "markdown",
   "metadata": {},
   "source": [
    "从随机一维数组中找出距离给定数值（0.5）最近的数"
   ]
  },
  {
   "cell_type": "code",
   "execution_count": 40,
   "metadata": {},
   "outputs": [
    {
     "name": "stdout",
     "output_type": "stream",
     "text": [
      "随机数组: \n",
      " [0.57823915 0.44309406 0.65315856 0.66757593 0.41983366 0.66459631\n",
      " 0.5295205  0.21155646 0.40855207 0.20237711 0.84824718 0.04819854\n",
      " 0.39052939 0.16626779 0.96270923 0.39740149 0.46451159 0.28572036\n",
      " 0.83836085 0.14391074]\n"
     ]
    },
    {
     "data": {
      "text/plain": [
       "0.529520504396079"
      ]
     },
     "execution_count": 40,
     "metadata": {},
     "output_type": "execute_result"
    }
   ],
   "source": [
    "Z = np.random.uniform(0, 1, 20)\n",
    "print(\"随机数组: \\n\", Z)\n",
    "z = 0.5\n",
    "m = Z.flat[np.abs(Z - z).argmin()]\n",
    "\n",
    "m"
   ]
  },
  {
   "cell_type": "markdown",
   "metadata": {},
   "source": [
    "找出随机一维数组中出现频率最高的值"
   ]
  },
  {
   "cell_type": "code",
   "execution_count": 41,
   "metadata": {},
   "outputs": [
    {
     "name": "stdout",
     "output_type": "stream",
     "text": [
      "随机一维数组: [7 4 3 0 1 4 4 9 2 6 4 2 2 1 9 5 0 5 0 5 3 8 0 1 2 7 9 6 1 3 4 1 5 1 7 5 2\n",
      " 2 5 8 1 9 7 3 0 9 0 3 1 7]\n"
     ]
    },
    {
     "data": {
      "text/plain": [
       "1"
      ]
     },
     "execution_count": 41,
     "metadata": {},
     "output_type": "execute_result"
    }
   ],
   "source": [
    "Z = np.random.randint(0, 10, 50)\n",
    "print(\"随机一维数组:\", Z)\n",
    "np.bincount(Z).argmax()"
   ]
  },
  {
   "cell_type": "markdown",
   "metadata": {},
   "source": [
    "找出给定一维数组中非 0 元素的位置索引"
   ]
  },
  {
   "cell_type": "code",
   "execution_count": 43,
   "metadata": {},
   "outputs": [
    {
     "data": {
      "text/plain": [
       "(array([0, 2, 4, 6], dtype=int64),)"
      ]
     },
     "execution_count": 43,
     "metadata": {},
     "output_type": "execute_result"
    }
   ],
   "source": [
    "Z = np.nonzero([1, 0, 2, 0, 1, 0, 4, 0])\n",
    "Z"
   ]
  },
  {
   "cell_type": "markdown",
   "metadata": {},
   "source": [
    "对于给定的 5x5 二维数组，在其内部随机放置 p 个值为 1 的数"
   ]
  },
  {
   "cell_type": "code",
   "execution_count": 44,
   "metadata": {},
   "outputs": [
    {
     "data": {
      "text/plain": [
       "array([[0., 0., 0., 0., 0.],\n",
       "       [0., 0., 0., 1., 0.],\n",
       "       [1., 0., 0., 0., 0.],\n",
       "       [0., 0., 0., 0., 0.],\n",
       "       [1., 0., 0., 0., 0.]])"
      ]
     },
     "execution_count": 44,
     "metadata": {},
     "output_type": "execute_result"
    }
   ],
   "source": [
    "p = 3\n",
    "\n",
    "Z = np.zeros((5, 5))\n",
    "np.put(Z, np.random.choice(range(5*5), p, replace=False), 1)\n",
    "\n",
    "Z"
   ]
  },
  {
   "cell_type": "markdown",
   "metadata": {},
   "source": [
    "对于随机的 3x3 二维数组，减去数组每一行的平均值"
   ]
  },
  {
   "cell_type": "code",
   "execution_count": 45,
   "metadata": {},
   "outputs": [
    {
     "name": "stdout",
     "output_type": "stream",
     "text": [
      "[[0.18235752 0.56092922 0.70645199]\n",
      " [0.218955   0.54848133 0.06666187]\n",
      " [0.15319016 0.37322109 0.59287859]]\n"
     ]
    },
    {
     "data": {
      "text/plain": [
       "array([[-3.00888727e-01,  7.76829758e-02,  2.23205751e-01],\n",
       "       [-5.90777297e-02,  2.70448596e-01, -2.11370866e-01],\n",
       "       [-2.19906452e-01,  1.24478550e-04,  2.19781974e-01]])"
      ]
     },
     "execution_count": 45,
     "metadata": {},
     "output_type": "execute_result"
    }
   ],
   "source": [
    "X = np.random.rand(3, 3)\n",
    "print(X)\n",
    "\n",
    "Y = X - X.mean(axis=1, keepdims=True)\n",
    "Y"
   ]
  },
  {
   "cell_type": "markdown",
   "metadata": {},
   "source": [
    "获得二维数组点积结果的对角线数组"
   ]
  },
  {
   "cell_type": "code",
   "execution_count": 46,
   "metadata": {},
   "outputs": [
    {
     "name": "stdout",
     "output_type": "stream",
     "text": [
      "[[0.93468281 0.82847971 0.64891886]\n",
      " [1.06261591 1.20490375 0.93754051]\n",
      " [0.65012146 0.93414804 0.63498504]]\n"
     ]
    },
    {
     "data": {
      "text/plain": [
       "array([0.93468281, 1.20490375, 0.63498504])"
      ]
     },
     "execution_count": 46,
     "metadata": {},
     "output_type": "execute_result"
    }
   ],
   "source": [
    "A = np.random.uniform(0, 1, (3, 3))\n",
    "B = np.random.uniform(0, 1, (3, 3))\n",
    "\n",
    "print(np.dot(A, B))\n",
    "\n",
    "# 较慢的方法\n",
    "np.diag(np.dot(A, B))"
   ]
  },
  {
   "cell_type": "code",
   "execution_count": 47,
   "metadata": {},
   "outputs": [
    {
     "data": {
      "text/plain": [
       "array([0.93468281, 1.20490375, 0.63498504])"
      ]
     },
     "execution_count": 47,
     "metadata": {},
     "output_type": "execute_result"
    }
   ],
   "source": [
    "# 较快的方法\n",
    "np.sum(A * B.T, axis=1)  "
   ]
  },
  {
   "cell_type": "code",
   "execution_count": 48,
   "metadata": {},
   "outputs": [
    {
     "data": {
      "text/plain": [
       "array([0.93468281, 1.20490375, 0.63498504])"
      ]
     },
     "execution_count": 48,
     "metadata": {},
     "output_type": "execute_result"
    }
   ],
   "source": [
    "# 更快的方法\n",
    "np.einsum(\"ij, ji->i\", A, B)  "
   ]
  },
  {
   "cell_type": "markdown",
   "metadata": {},
   "source": [
    "找到随机一维数组中前 p 个最大值"
   ]
  },
  {
   "cell_type": "code",
   "execution_count": 49,
   "metadata": {},
   "outputs": [
    {
     "name": "stdout",
     "output_type": "stream",
     "text": [
      "[28 62 75 37 33 56 10 21 45 44 35 19 90 75 58 45 56 44 57 96 75 59 73 60\n",
      " 93 66 73 84 75 50 16 70 68 34 50 66 44 51 64 17 14 96 67 25 64 83 35 76\n",
      " 26 90  8  8  7 11 10 29 16 39 49 57 66 95 28 10 64 61 38 87 24 23 86 88\n",
      " 11 65  4 82 43 81 51 20 23 87 72 49  8 62  8 47 74 30 45 62 48  5 65 39\n",
      " 79 34 22 55]\n"
     ]
    },
    {
     "data": {
      "text/plain": [
       "array([90, 93, 95, 96, 96])"
      ]
     },
     "execution_count": 49,
     "metadata": {},
     "output_type": "execute_result"
    }
   ],
   "source": [
    "Z = np.random.randint(1, 100, 100)\n",
    "print(Z)\n",
    "\n",
    "p = 5\n",
    "\n",
    "Z[np.argsort(Z)[-p:]]"
   ]
  },
  {
   "cell_type": "markdown",
   "metadata": {},
   "source": [
    "计算随机一维数组中每个元素的 4 次方数值"
   ]
  },
  {
   "cell_type": "code",
   "execution_count": 50,
   "metadata": {},
   "outputs": [
    {
     "name": "stdout",
     "output_type": "stream",
     "text": [
      "[4 4 3 4 4]\n"
     ]
    },
    {
     "data": {
      "text/plain": [
       "array([256, 256,  81, 256, 256], dtype=int32)"
      ]
     },
     "execution_count": 50,
     "metadata": {},
     "output_type": "execute_result"
    }
   ],
   "source": [
    "x = np.random.randint(2, 5, 5)\n",
    "print(x)\n",
    "\n",
    "np.power(x, 4)"
   ]
  },
  {
   "cell_type": "markdown",
   "metadata": {},
   "source": [
    "对于二维随机数组中各元素，保留其 2 位小数"
   ]
  },
  {
   "cell_type": "code",
   "execution_count": 51,
   "metadata": {},
   "outputs": [
    {
     "name": "stdout",
     "output_type": "stream",
     "text": [
      "[[0.62521146 0.59787643 0.98022878 0.75688118 0.61165251]\n",
      " [0.28551044 0.8757644  0.32094644 0.33613361 0.44090176]\n",
      " [0.03159803 0.26934965 0.89106268 0.61154935 0.64023501]\n",
      " [0.36015108 0.9446228  0.78465142 0.04873335 0.32621776]\n",
      " [0.69569004 0.9856957  0.70970629 0.59152485 0.60478382]]\n"
     ]
    },
    {
     "data": {
      "text/plain": [
       "array([[0.63, 0.6 , 0.98, 0.76, 0.61],\n",
       "       [0.29, 0.88, 0.32, 0.34, 0.44],\n",
       "       [0.03, 0.27, 0.89, 0.61, 0.64],\n",
       "       [0.36, 0.94, 0.78, 0.05, 0.33],\n",
       "       [0.7 , 0.99, 0.71, 0.59, 0.6 ]])"
      ]
     },
     "execution_count": 51,
     "metadata": {},
     "output_type": "execute_result"
    }
   ],
   "source": [
    "Z = np.random.random((5, 5))\n",
    "print(Z)\n",
    "\n",
    "np.set_printoptions(precision=2)\n",
    "Z"
   ]
  },
  {
   "cell_type": "markdown",
   "metadata": {},
   "source": [
    "使用科学记数法输出 NumPy 数组"
   ]
  },
  {
   "cell_type": "code",
   "execution_count": 52,
   "metadata": {},
   "outputs": [
    {
     "name": "stdout",
     "output_type": "stream",
     "text": [
      "[[0.79 0.23 0.76 0.66 0.95]\n",
      " [0.66 1.   0.02 0.86 0.18]\n",
      " [0.86 0.66 0.75 0.27 0.36]\n",
      " [0.21 0.78 0.99 0.71 0.14]\n",
      " [0.82 0.87 0.06 0.22 0.83]]\n"
     ]
    },
    {
     "data": {
      "text/plain": [
       "array([[7.90e-04, 2.25e-04, 7.63e-04, 6.65e-04, 9.47e-04],\n",
       "       [6.59e-04, 9.98e-04, 2.01e-05, 8.64e-04, 1.85e-04],\n",
       "       [8.61e-04, 6.59e-04, 7.50e-04, 2.74e-04, 3.60e-04],\n",
       "       [2.05e-04, 7.80e-04, 9.91e-04, 7.07e-04, 1.36e-04],\n",
       "       [8.23e-04, 8.68e-04, 5.51e-05, 2.18e-04, 8.31e-04]])"
      ]
     },
     "execution_count": 52,
     "metadata": {},
     "output_type": "execute_result"
    }
   ],
   "source": [
    "Z = np.random.random([5, 5])\n",
    "print(Z)\n",
    "\n",
    "Z/1e3"
   ]
  },
  {
   "cell_type": "markdown",
   "metadata": {},
   "source": [
    "使用 NumPy 找出百分位数"
   ]
  },
  {
   "cell_type": "code",
   "execution_count": 53,
   "metadata": {},
   "outputs": [
    {
     "name": "stdout",
     "output_type": "stream",
     "text": [
      "[ 0  1  2  3  4  5  6  7  8  9 10 11 12 13 14]\n"
     ]
    },
    {
     "data": {
      "text/plain": [
       "array([ 3.5,  7. , 10.5])"
      ]
     },
     "execution_count": 53,
     "metadata": {},
     "output_type": "execute_result"
    }
   ],
   "source": [
    "a = np.arange(15)\n",
    "print(a)\n",
    "\n",
    "np.percentile(a, q=[25, 50, 75])"
   ]
  },
  {
   "cell_type": "markdown",
   "metadata": {},
   "source": [
    "找出数组中缺失值的总数及所在位置"
   ]
  },
  {
   "cell_type": "code",
   "execution_count": 54,
   "metadata": {},
   "outputs": [
    {
     "data": {
      "text/plain": [
       "array([[0.48, 0.22,  nan, 0.18, 0.95, 0.39, 0.43, 0.84, 0.98, 0.84],\n",
       "       [0.26, 0.25, 0.65, 0.51, 0.45, 0.52, 0.97, 0.92, 0.15, 0.32],\n",
       "       [ nan, 0.66, 0.76, 0.  , 0.38, 0.76, 0.64, 0.62, 0.74,  nan],\n",
       "       [0.37, 0.73, 0.22, 0.95, 0.59, 0.01, 0.03, 0.43, 0.92, 0.25],\n",
       "       [0.51, 0.33, 0.84, 0.43, 0.05, 0.59, 0.92, 0.42, 0.32, 0.28],\n",
       "       [0.45, 0.77, 0.5 , 0.5 , 0.97, 0.67, 0.15,  nan, 0.13, 0.72],\n",
       "       [0.84, 0.19, 0.03, 0.27, 0.21, 0.32, 0.7 , 0.09, 0.03, 0.76],\n",
       "       [0.27, 0.31, 0.09, 0.58, 0.73,  nan, 0.04, 0.88, 0.14, 0.31],\n",
       "       [0.55, 0.94, 0.62, 0.79, 0.58, 0.14, 0.89, 0.05, 0.3 , 0.61],\n",
       "       [0.09, 0.3 , 0.99, 0.17, 0.06, 0.07, 0.16, 0.56, 0.82, 0.11]])"
      ]
     },
     "execution_count": 54,
     "metadata": {},
     "output_type": "execute_result"
    }
   ],
   "source": [
    "# 生成含缺失值的 2 维数组\n",
    "Z = np.random.rand(10, 10)\n",
    "Z[np.random.randint(10, size=5), np.random.randint(10, size=5)] = np.nan\n",
    "Z"
   ]
  },
  {
   "cell_type": "code",
   "execution_count": 57,
   "metadata": {},
   "outputs": [
    {
     "name": "stdout",
     "output_type": "stream",
     "text": [
      "缺失值总数: \n",
      " 5\n",
      "缺失值索引: \n",
      " (array([0, 2, 2, 5, 7], dtype=int64), array([2, 0, 9, 7, 5], dtype=int64))\n"
     ]
    }
   ],
   "source": [
    "print(\"缺失值总数: \\n\", np.isnan(Z).sum())\n",
    "print(\"缺失值索引: \\n\", np.where(np.isnan(Z)))"
   ]
  },
  {
   "cell_type": "markdown",
   "metadata": {},
   "source": [
    "从随机数组中删除包含缺失值的行"
   ]
  },
  {
   "cell_type": "code",
   "execution_count": 58,
   "metadata": {},
   "outputs": [
    {
     "data": {
      "text/plain": [
       "array([[0.26, 0.25, 0.65, 0.51, 0.45, 0.52, 0.97, 0.92, 0.15, 0.32],\n",
       "       [0.37, 0.73, 0.22, 0.95, 0.59, 0.01, 0.03, 0.43, 0.92, 0.25],\n",
       "       [0.51, 0.33, 0.84, 0.43, 0.05, 0.59, 0.92, 0.42, 0.32, 0.28],\n",
       "       [0.84, 0.19, 0.03, 0.27, 0.21, 0.32, 0.7 , 0.09, 0.03, 0.76],\n",
       "       [0.55, 0.94, 0.62, 0.79, 0.58, 0.14, 0.89, 0.05, 0.3 , 0.61],\n",
       "       [0.09, 0.3 , 0.99, 0.17, 0.06, 0.07, 0.16, 0.56, 0.82, 0.11]])"
      ]
     },
     "execution_count": 58,
     "metadata": {},
     "output_type": "execute_result"
    }
   ],
   "source": [
    "# 沿用 79 题中的含缺失值的 2 维数组\n",
    "Z[np.sum(np.isnan(Z), axis=1) == 0]"
   ]
  },
  {
   "cell_type": "markdown",
   "metadata": {},
   "source": [
    "统计随机数组中的各元素的数量"
   ]
  },
  {
   "cell_type": "code",
   "execution_count": 59,
   "metadata": {},
   "outputs": [
    {
     "name": "stdout",
     "output_type": "stream",
     "text": [
      "[[67 44 18 98 35]\n",
      " [47 64  8 28 26]\n",
      " [29 19 54 75 49]\n",
      " [ 7 93 13 61 48]\n",
      " [88 16 34 53 81]]\n"
     ]
    },
    {
     "data": {
      "text/plain": [
       "(array([ 7,  8, 13, 16, 18, 19, 26, 28, 29, 34, 35, 44, 47, 48, 49, 53, 54,\n",
       "        61, 64, 67, 75, 81, 88, 93, 98]),\n",
       " array([1, 1, 1, 1, 1, 1, 1, 1, 1, 1, 1, 1, 1, 1, 1, 1, 1, 1, 1, 1, 1, 1,\n",
       "        1, 1, 1], dtype=int64))"
      ]
     },
     "execution_count": 59,
     "metadata": {},
     "output_type": "execute_result"
    }
   ],
   "source": [
    "Z = np.random.randint(0, 100, 25).reshape(5, 5)\n",
    "print(Z)\n",
    "\n",
    "# 返回值中，第 2 个数组对应第 1 个数组元素的数量\n",
    "np.unique(Z, return_counts=True)  "
   ]
  },
  {
   "cell_type": "markdown",
   "metadata": {},
   "source": [
    "将数组中各元素按指定分类转换为文本值"
   ]
  },
  {
   "cell_type": "code",
   "execution_count": 60,
   "metadata": {},
   "outputs": [
    {
     "name": "stdout",
     "output_type": "stream",
     "text": [
      "[1 2 1 1 3 3 3 2 3 2]\n"
     ]
    },
    {
     "data": {
      "text/plain": [
       "['汽车', '公交车', '汽车', '汽车', '火车', '火车', '火车', '公交车', '火车', '公交车']"
      ]
     },
     "execution_count": 60,
     "metadata": {},
     "output_type": "execute_result"
    }
   ],
   "source": [
    "# 指定类别如下\n",
    "# 1 → 汽车\n",
    "# 2 → 公交车\n",
    "# 3 → 火车\n",
    "\n",
    "Z = np.random.randint(1, 4, 10)\n",
    "print(Z)\n",
    "\n",
    "label_map = {1: \"汽车\", 2: \"公交车\", 3: \"火车\"}\n",
    "\n",
    "[label_map[x] for x in Z]"
   ]
  },
  {
   "cell_type": "markdown",
   "metadata": {},
   "source": [
    "将多个 1 维数组拼合为单个 Ndarray"
   ]
  },
  {
   "cell_type": "code",
   "execution_count": 61,
   "metadata": {},
   "outputs": [
    {
     "name": "stdout",
     "output_type": "stream",
     "text": [
      "[array([0, 1, 2]) array([3, 4, 5, 6]) array([7, 8, 9])]\n"
     ]
    },
    {
     "data": {
      "text/plain": [
       "array([0, 1, 2, 3, 4, 5, 6, 7, 8, 9])"
      ]
     },
     "execution_count": 61,
     "metadata": {},
     "output_type": "execute_result"
    }
   ],
   "source": [
    "Z1 = np.arange(3)\n",
    "Z2 = np.arange(3, 7)\n",
    "Z3 = np.arange(7, 10)\n",
    "\n",
    "Z = np.array([Z1, Z2, Z3])\n",
    "print(Z)\n",
    "\n",
    "np.concatenate(Z)"
   ]
  },
  {
   "cell_type": "markdown",
   "metadata": {},
   "source": [
    "打印各元素在数组中升序排列的索引"
   ]
  },
  {
   "cell_type": "code",
   "execution_count": 62,
   "metadata": {},
   "outputs": [
    {
     "name": "stdout",
     "output_type": "stream",
     "text": [
      "Array:  [67 94 43 60 79 96 98 92 22 36]\n"
     ]
    },
    {
     "data": {
      "text/plain": [
       "array([8, 9, 2, 3, 0, 4, 7, 1, 5, 6], dtype=int64)"
      ]
     },
     "execution_count": 62,
     "metadata": {},
     "output_type": "execute_result"
    }
   ],
   "source": [
    "a = np.random.randint(100, size=10)\n",
    "print('Array: ', a)\n",
    "\n",
    "a.argsort()"
   ]
  },
  {
   "cell_type": "markdown",
   "metadata": {},
   "source": [
    "得到二维随机数组各行的最大值"
   ]
  },
  {
   "cell_type": "code",
   "execution_count": 63,
   "metadata": {},
   "outputs": [
    {
     "name": "stdout",
     "output_type": "stream",
     "text": [
      "[[14  2 24 59 53]\n",
      " [58 51 48 52 45]\n",
      " [14 37 50 82 15]\n",
      " [72 92 19 89 21]\n",
      " [16 72 53 49 83]]\n"
     ]
    },
    {
     "data": {
      "text/plain": [
       "array([59, 58, 82, 92, 83])"
      ]
     },
     "execution_count": 63,
     "metadata": {},
     "output_type": "execute_result"
    }
   ],
   "source": [
    "Z = np.random.randint(1, 100, [5, 5])\n",
    "print(Z)\n",
    "\n",
    "np.amax(Z, axis=1)"
   ]
  },
  {
   "cell_type": "markdown",
   "metadata": {},
   "source": [
    "得到二维随机数组各行的最小值（区别上面的方法）"
   ]
  },
  {
   "cell_type": "code",
   "execution_count": 64,
   "metadata": {},
   "outputs": [
    {
     "name": "stdout",
     "output_type": "stream",
     "text": [
      "[[85 43 76 32 69]\n",
      " [24 76 22 33 87]\n",
      " [63  4 94 73 19]\n",
      " [42 33 35 43 15]\n",
      " [84 78 39 79 38]]\n"
     ]
    },
    {
     "data": {
      "text/plain": [
       "array([32, 22,  4, 15, 38])"
      ]
     },
     "execution_count": 64,
     "metadata": {},
     "output_type": "execute_result"
    }
   ],
   "source": [
    "Z = np.random.randint(1, 100, [5, 5])\n",
    "print(Z)\n",
    "\n",
    "np.apply_along_axis(np.min, arr=Z, axis=1)"
   ]
  },
  {
   "cell_type": "markdown",
   "metadata": {},
   "source": [
    "计算两个数组之间的欧氏距离"
   ]
  },
  {
   "cell_type": "code",
   "execution_count": 65,
   "metadata": {},
   "outputs": [
    {
     "name": "stdout",
     "output_type": "stream",
     "text": [
      "8.48528137423857\n"
     ]
    },
    {
     "data": {
      "text/plain": [
       "8.48528137423857"
      ]
     },
     "execution_count": 65,
     "metadata": {},
     "output_type": "execute_result"
    }
   ],
   "source": [
    "a = np.array([1, 2])\n",
    "b = np.array([7, 8])\n",
    "\n",
    "# 数学计算方法\n",
    "print(np.sqrt(np.power((8-2), 2) + np.power((7-1), 2)))\n",
    "# NumPy 计算\n",
    "np.linalg.norm(b-a)"
   ]
  },
  {
   "cell_type": "markdown",
   "metadata": {},
   "source": [
    "打印复数的实部和虚部"
   ]
  },
  {
   "cell_type": "code",
   "execution_count": 66,
   "metadata": {},
   "outputs": [
    {
     "name": "stdout",
     "output_type": "stream",
     "text": [
      "实部： [1. 3. 5.]\n",
      "虚部： [2. 4. 6.]\n"
     ]
    }
   ],
   "source": [
    "a = np.array([1 + 2j, 3 + 4j, 5 + 6j])\n",
    "\n",
    "print(\"实部：\", a.real)\n",
    "print(\"虚部：\", a.imag)"
   ]
  },
  {
   "cell_type": "markdown",
   "metadata": {},
   "source": [
    "求解给出矩阵的逆矩阵并验证"
   ]
  },
  {
   "cell_type": "code",
   "execution_count": 70,
   "metadata": {},
   "outputs": [
    {
     "data": {
      "text/plain": [
       "array([[-2. ,  1. ],\n",
       "       [ 1.5, -0.5]])"
      ]
     },
     "execution_count": 70,
     "metadata": {},
     "output_type": "execute_result"
    }
   ],
   "source": [
    "matrix = np.array([[1., 2.], [3., 4.]])\n",
    "inverse_matrix = np.linalg.inv(matrix)\n",
    "\n",
    "# 验证原矩阵和逆矩阵的点积是否为单位矩阵\n",
    "assert np.allclose(np.dot(matrix, inverse_matrix), np.eye(2))\n",
    "inverse_matrix"
   ]
  },
  {
   "cell_type": "markdown",
   "metadata": {},
   "source": [
    "使用 Z-Score 标准化算法对数据进行标准化处理"
   ]
  },
  {
   "cell_type": "code",
   "execution_count": 71,
   "metadata": {},
   "outputs": [
    {
     "name": "stdout",
     "output_type": "stream",
     "text": [
      "[[9 2 7 7 9]\n",
      " [8 3 0 3 3]\n",
      " [3 8 5 0 8]\n",
      " [6 2 0 4 9]\n",
      " [8 4 0 8 9]]\n"
     ]
    },
    {
     "data": {
      "text/plain": [
       "array([[ 1.25, -0.94,  0.63,  0.63,  1.25],\n",
       "       [ 0.94, -0.63, -1.57, -0.63, -0.63],\n",
       "       [-0.63,  0.94,  0.  , -1.57,  0.94],\n",
       "       [ 0.31, -0.94, -1.57, -0.31,  1.25],\n",
       "       [ 0.94, -0.31, -1.57,  0.94,  1.25]])"
      ]
     },
     "execution_count": 71,
     "metadata": {},
     "output_type": "execute_result"
    }
   ],
   "source": [
    "# 根据公式定义函数\n",
    "def zscore(x, axis=None):\n",
    "    xmean = x.mean(axis=axis, keepdims=True)\n",
    "    xstd = np.std(x, axis=axis, keepdims=True)\n",
    "    zscore = (x-xmean)/xstd\n",
    "    return zscore\n",
    "\n",
    "\n",
    "# 生成随机数据\n",
    "Z = np.random.randint(10, size=(5, 5))\n",
    "print(Z)\n",
    "\n",
    "zscore(Z)"
   ]
  },
  {
   "cell_type": "markdown",
   "metadata": {},
   "source": [
    "使用 Min-Max 标准化算法对数据进行标准化处理"
   ]
  },
  {
   "cell_type": "code",
   "execution_count": 72,
   "metadata": {},
   "outputs": [
    {
     "name": "stdout",
     "output_type": "stream",
     "text": [
      "[[3 7 3 1 7]\n",
      " [6 8 6 0 7]\n",
      " [7 2 6 4 1]\n",
      " [0 9 5 7 8]\n",
      " [3 9 9 8 6]]\n"
     ]
    },
    {
     "data": {
      "text/plain": [
       "array([[0.33, 0.78, 0.33, 0.11, 0.78],\n",
       "       [0.67, 0.89, 0.67, 0.  , 0.78],\n",
       "       [0.78, 0.22, 0.67, 0.44, 0.11],\n",
       "       [0.  , 1.  , 0.56, 0.78, 0.89],\n",
       "       [0.33, 1.  , 1.  , 0.89, 0.67]])"
      ]
     },
     "execution_count": 72,
     "metadata": {},
     "output_type": "execute_result"
    }
   ],
   "source": [
    "# 根据公式定义函数\n",
    "def min_max(x, axis=None):\n",
    "    min = x.min(axis=axis, keepdims=True)\n",
    "    max = x.max(axis=axis, keepdims=True)\n",
    "    result = (x-min)/(max-min)\n",
    "    return result\n",
    "\n",
    "\n",
    "# 生成随机数据\n",
    "Z = np.random.randint(10, size=(5, 5))\n",
    "print(Z)\n",
    "\n",
    "min_max(Z)"
   ]
  },
  {
   "cell_type": "markdown",
   "metadata": {},
   "source": [
    "使用 L2 范数对数据进行标准化处理"
   ]
  },
  {
   "cell_type": "code",
   "execution_count": 73,
   "metadata": {},
   "outputs": [
    {
     "name": "stdout",
     "output_type": "stream",
     "text": [
      "[[6 2 4 3 3]\n",
      " [6 6 8 7 5]\n",
      " [9 9 2 7 2]\n",
      " [8 0 2 2 4]\n",
      " [9 1 6 8 4]]\n"
     ]
    },
    {
     "data": {
      "text/plain": [
       "array([[0.7 , 0.23, 0.46, 0.35, 0.35],\n",
       "       [0.41, 0.41, 0.55, 0.48, 0.35],\n",
       "       [0.61, 0.61, 0.14, 0.47, 0.14],\n",
       "       [0.85, 0.  , 0.21, 0.21, 0.43],\n",
       "       [0.64, 0.07, 0.43, 0.57, 0.28]])"
      ]
     },
     "execution_count": 73,
     "metadata": {},
     "output_type": "execute_result"
    }
   ],
   "source": [
    "# 根据公式定义函数\n",
    "def l2_normalize(v, axis=-1, order=2):\n",
    "    l2 = np.linalg.norm(v, ord=order, axis=axis, keepdims=True)\n",
    "    l2[l2 == 0] = 1\n",
    "    return v/l2\n",
    "\n",
    "# 生成随机数据\n",
    "Z = np.random.randint(10, size=(5, 5))\n",
    "print(Z)\n",
    "\n",
    "l2_normalize(Z)"
   ]
  },
  {
   "cell_type": "markdown",
   "metadata": {},
   "source": [
    "使用 NumPy 计算变量直接的相关性系数"
   ]
  },
  {
   "cell_type": "code",
   "execution_count": 74,
   "metadata": {},
   "outputs": [
    {
     "data": {
      "text/plain": [
       "array([[ 1.  , -0.06,  0.97],\n",
       "       [-0.06,  1.  , -0.01],\n",
       "       [ 0.97, -0.01,  1.  ]])"
      ]
     },
     "execution_count": 74,
     "metadata": {},
     "output_type": "execute_result"
    }
   ],
   "source": [
    "Z = np.array([\n",
    "    [1, 2, 1, 9, 10, 3, 2, 6, 7],  # 特征 A\n",
    "    [2, 1, 8, 3, 7, 5, 10, 7, 2],  # 特征 B\n",
    "    [2, 1, 1, 8, 9, 4, 3, 5, 7]])  # 特征 C\n",
    "\n",
    "np.corrcoef(Z)"
   ]
  },
  {
   "cell_type": "markdown",
   "metadata": {},
   "source": [
    "使用 NumPy 计算矩阵的特征值和特征向量"
   ]
  },
  {
   "cell_type": "code",
   "execution_count": 75,
   "metadata": {},
   "outputs": [
    {
     "data": {
      "text/plain": [
       "(array([ 1.61e+01, -1.12e+00, -9.76e-16]),\n",
       " matrix([[-0.23, -0.79,  0.41],\n",
       "         [-0.53, -0.09, -0.82],\n",
       "         [-0.82,  0.61,  0.41]]))"
      ]
     },
     "execution_count": 75,
     "metadata": {},
     "output_type": "execute_result"
    }
   ],
   "source": [
    "M = np.matrix([[1, 2, 3], [4, 5, 6], [7, 8, 9]])\n",
    "w, v = np.linalg.eig(M)\n",
    "# w 对应特征值，v 对应特征向量\n",
    "w, v"
   ]
  },
  {
   "cell_type": "code",
   "execution_count": 76,
   "metadata": {},
   "outputs": [
    {
     "data": {
      "text/plain": [
       "matrix([[1., 2., 3.],\n",
       "        [4., 5., 6.],\n",
       "        [7., 8., 9.]])"
      ]
     },
     "execution_count": 76,
     "metadata": {},
     "output_type": "execute_result"
    }
   ],
   "source": [
    "v * np.diag(w) * np.linalg.inv(v)"
   ]
  },
  {
   "cell_type": "markdown",
   "metadata": {},
   "source": [
    "使用 NumPy 计算 Ndarray 两相邻元素差值"
   ]
  },
  {
   "cell_type": "code",
   "execution_count": 77,
   "metadata": {},
   "outputs": [
    {
     "name": "stdout",
     "output_type": "stream",
     "text": [
      "[1 4 3 1 7 6 1 9 9 8]\n",
      "[ 3 -1 -2  6 -1 -5  8  0 -1]\n",
      "[-4 -1  8 -7 -4 13 -8 -1]\n",
      "[  3   9 -15   3  17 -21   7]\n"
     ]
    }
   ],
   "source": [
    "Z = np.random.randint(1, 10, 10)\n",
    "print(Z)\n",
    "\n",
    "# 计算 Z 两相邻元素差值\n",
    "print(np.diff(Z, n=1))\n",
    "# 重复计算 2 次\n",
    "print(np.diff(Z, n=2))\n",
    "# 重复计算 3 次\n",
    "print(np.diff(Z, n=3))"
   ]
  },
  {
   "cell_type": "markdown",
   "metadata": {},
   "source": [
    "使用 NumPy 将 Ndarray 相邻元素依次累加"
   ]
  },
  {
   "cell_type": "code",
   "execution_count": 78,
   "metadata": {},
   "outputs": [
    {
     "name": "stdout",
     "output_type": "stream",
     "text": [
      "[2 3 7 5 7 6 4 2 7 3]\n"
     ]
    },
    {
     "data": {
      "text/plain": [
       "array([ 2,  5, 12, 17, 24, 30, 34, 36, 43, 46], dtype=int32)"
      ]
     },
     "execution_count": 78,
     "metadata": {},
     "output_type": "execute_result"
    }
   ],
   "source": [
    "Z = np.random.randint(1, 10, 10)\n",
    "print(Z)\n",
    "\n",
    "\"\"\"\n",
    "[第一个元素, 第一个元素 + 第二个元素, 第一个元素 + 第二个元素 + 第三个元素, ...]\n",
    "\"\"\"\n",
    "np.cumsum(Z)"
   ]
  },
  {
   "cell_type": "markdown",
   "metadata": {},
   "source": [
    "使用 NumPy 按列连接两个数组"
   ]
  },
  {
   "cell_type": "code",
   "execution_count": 79,
   "metadata": {},
   "outputs": [
    {
     "data": {
      "text/plain": [
       "array([[1, 4],\n",
       "       [2, 5],\n",
       "       [3, 6]])"
      ]
     },
     "execution_count": 79,
     "metadata": {},
     "output_type": "execute_result"
    }
   ],
   "source": [
    "M1 = np.array([1, 2, 3])\n",
    "M2 = np.array([4, 5, 6])\n",
    "\n",
    "np.c_[M1, M2]"
   ]
  },
  {
   "cell_type": "markdown",
   "metadata": {},
   "source": [
    "使用 NumPy 按行连接两个数组"
   ]
  },
  {
   "cell_type": "code",
   "execution_count": 80,
   "metadata": {},
   "outputs": [
    {
     "data": {
      "text/plain": [
       "array([1, 2, 3, 4, 5, 6])"
      ]
     },
     "execution_count": 80,
     "metadata": {},
     "output_type": "execute_result"
    }
   ],
   "source": [
    "M1 = np.array([1, 2, 3])\n",
    "M2 = np.array([4, 5, 6])\n",
    "\n",
    "np.r_[M1, M2]"
   ]
  },
  {
   "cell_type": "markdown",
   "metadata": {},
   "source": [
    "使用 NumPy 打印九九乘法表"
   ]
  },
  {
   "cell_type": "code",
   "execution_count": 81,
   "metadata": {},
   "outputs": [
    {
     "data": {
      "text/plain": [
       "array([[ 1.,  2.,  3.,  4.,  5.,  6.,  7.,  8.,  9.],\n",
       "       [ 2.,  4.,  6.,  8., 10., 12., 14., 16., 18.],\n",
       "       [ 3.,  6.,  9., 12., 15., 18., 21., 24., 27.],\n",
       "       [ 4.,  8., 12., 16., 20., 24., 28., 32., 36.],\n",
       "       [ 5., 10., 15., 20., 25., 30., 35., 40., 45.],\n",
       "       [ 6., 12., 18., 24., 30., 36., 42., 48., 54.],\n",
       "       [ 7., 14., 21., 28., 35., 42., 49., 56., 63.],\n",
       "       [ 8., 16., 24., 32., 40., 48., 56., 64., 72.],\n",
       "       [ 9., 18., 27., 36., 45., 54., 63., 72., 81.]])"
      ]
     },
     "execution_count": 81,
     "metadata": {},
     "output_type": "execute_result"
    }
   ],
   "source": [
    "np.fromfunction(lambda i, j: (i + 1) * (j + 1), (9, 9))"
   ]
  },
  {
   "cell_type": "markdown",
   "metadata": {},
   "source": [
    "使用 NumPy 将实验楼 LOGO 转换为 Ndarray 数组"
   ]
  },
  {
   "cell_type": "code",
   "execution_count": 82,
   "metadata": {},
   "outputs": [
    {
     "data": {
      "text/plain": [
       "array([[[255, 255, 255,   0],\n",
       "        [255, 255, 255,   0],\n",
       "        [255, 255, 255,   0],\n",
       "        ...,\n",
       "        [255, 255, 255,   0],\n",
       "        [255, 255, 255,   0],\n",
       "        [255, 255, 255,   0]],\n",
       "\n",
       "       [[255, 255, 255,   0],\n",
       "        [255, 255, 255,   0],\n",
       "        [255, 255, 255,   0],\n",
       "        ...,\n",
       "        [255, 255, 255,   0],\n",
       "        [255, 255, 255,   0],\n",
       "        [255, 255, 255,   0]],\n",
       "\n",
       "       [[255, 255, 255,   0],\n",
       "        [255, 255, 255,   0],\n",
       "        [255, 255, 255,   0],\n",
       "        ...,\n",
       "        [255, 255, 255,   0],\n",
       "        [255, 255, 255,   0],\n",
       "        [255, 255, 255,   0]],\n",
       "\n",
       "       ...,\n",
       "\n",
       "       [[255, 255, 255,   0],\n",
       "        [255, 255, 255,   0],\n",
       "        [255, 255, 255,   0],\n",
       "        ...,\n",
       "        [255, 255, 255,   0],\n",
       "        [255, 255, 255,   0],\n",
       "        [255, 255, 255,   0]],\n",
       "\n",
       "       [[255, 255, 255,   0],\n",
       "        [255, 255, 255,   0],\n",
       "        [255, 255, 255,   0],\n",
       "        ...,\n",
       "        [255, 255, 255,   0],\n",
       "        [255, 255, 255,   0],\n",
       "        [255, 255, 255,   0]],\n",
       "\n",
       "       [[255, 255, 255,   0],\n",
       "        [255, 255, 255,   0],\n",
       "        [255, 255, 255,   0],\n",
       "        ...,\n",
       "        [255, 255, 255,   0],\n",
       "        [255, 255, 255,   0],\n",
       "        [255, 255, 255,   0]]], dtype=uint8)"
      ]
     },
     "execution_count": 82,
     "metadata": {},
     "output_type": "execute_result"
    }
   ],
   "source": [
    "from io import BytesIO\n",
    "from PIL import Image\n",
    "import PIL\n",
    "import requests\n",
    "\n",
    "# 通过链接下载图像\n",
    "URL = 'https://static.shiyanlou.com/img/logo-black.png'\n",
    "response = requests.get(URL)\n",
    "\n",
    "# 将内容读取为图像\n",
    "I = Image.open(BytesIO(response.content))\n",
    "# 将图像转换为 Ndarray\n",
    "shiyanlou = np.asarray(I)\n",
    "shiyanlou"
   ]
  },
  {
   "cell_type": "code",
   "execution_count": 83,
   "metadata": {},
   "outputs": [
    {
     "data": {
      "text/plain": [
       "<matplotlib.image.AxesImage at 0x1208549ac48>"
      ]
     },
     "execution_count": 83,
     "metadata": {},
     "output_type": "execute_result"
    },
    {
     "data": {
      "image/png": "[encoded data removed]",
      "text/plain": [
       "<Figure size 432x288 with 1 Axes>"
      ]
     },
     "metadata": {
      "needs_background": "light"
     },
     "output_type": "display_data"
    }
   ],
   "source": [
    "# 将转换后的 Ndarray 重新绘制成图像\n",
    "from matplotlib import pyplot as plt\n",
    "%matplotlib inline\n",
    "\n",
    "plt.imshow(shiyanlou)"
   ]
  },
  {
   "cell_type": "code",
   "execution_count": null,
   "metadata": {},
   "outputs": [],
   "source": []
  }
 ],
 "metadata": {
  "kernelspec": {
   "display_name": "Python 3",
   "language": "python",
   "name": "python3"
  },
  "language_info": {
   "codemirror_mode": {
    "name": "ipython",
    "version": 3
   },
   "file_extension": ".py",
   "mimetype": "text/x-python",
   "name": "python",
   "nbconvert_exporter": "python",
   "pygments_lexer": "ipython3",
   "version": "3.7.6"
  }
 },
 "nbformat": 4,
 "nbformat_minor": 4
}
